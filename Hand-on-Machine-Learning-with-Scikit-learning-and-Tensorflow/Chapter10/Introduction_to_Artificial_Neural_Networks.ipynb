{
 "cells": [
  {
   "cell_type": "markdown",
   "metadata": {},
   "source": [
    "# The Perception"
   ]
  },
  {
   "cell_type": "code",
   "execution_count": 1,
   "metadata": {
    "collapsed": true
   },
   "outputs": [],
   "source": [
    "import numpy as np\n",
    "from sklearn.datasets import load_iris\n",
    "from sklearn.linear_model import Perceptron"
   ]
  },
  {
   "cell_type": "code",
   "execution_count": 2,
   "metadata": {
    "collapsed": true
   },
   "outputs": [],
   "source": [
    "iris = load_iris()\n",
    "X = iris.data[:,(2,3)]\n",
    "y = (iris.target==0).astype(np.int)"
   ]
  },
  {
   "cell_type": "code",
   "execution_count": 3,
   "metadata": {
    "collapsed": true
   },
   "outputs": [],
   "source": [
    "per_clf = Perceptron(random_state=42)\n",
    "per_clf.fit(X, y)\n",
    "y_pred = per_clf.predict([[2,0.5]])"
   ]
  },
  {
   "cell_type": "markdown",
   "metadata": {},
   "source": [
    "# Training an MLP with Tensorflow's High-Level API"
   ]
  },
  {
   "cell_type": "code",
   "execution_count": 4,
   "metadata": {
    "collapsed": true
   },
   "outputs": [],
   "source": [
    "from sklearn.datasets import fetch_mldata\n",
    "mnist = fetch_mldata('MNIST original')\n",
    "X = mnist.data\n",
    "y = mnist.target.astype(np.int)\n",
    "X_train = X[:60000]\n",
    "y_train = y[:60000]\n",
    "X_test = X[60000:]\n",
    "y_test = y[60000:]"
   ]
  },
  {
   "cell_type": "code",
   "execution_count": 5,
   "metadata": {
    "collapsed": false
   },
   "outputs": [],
   "source": [
    "import tensorflow as tf\n",
    "feature_columns = tf.contrib.learn.infer_real_valued_columns_from_input(X_train)"
   ]
  },
  {
   "cell_type": "code",
   "execution_count": 6,
   "metadata": {
    "collapsed": false
   },
   "outputs": [
    {
     "name": "stdout",
     "output_type": "stream",
     "text": [
      "WARNING:tensorflow:Using temporary folder as model directory: /var/folders/k9/2cxh1k2115s_lw4wtq9mzj9m0000gp/T/tmp61zfqloa\n",
      "INFO:tensorflow:Using default config.\n",
      "INFO:tensorflow:Using config: {'_task_type': None, '_task_id': 0, '_cluster_spec': <tensorflow.python.training.server_lib.ClusterSpec object at 0x10260dbe0>, '_master': '', '_num_ps_replicas': 0, '_environment': 'local', '_is_chief': True, '_evaluation_master': '', '_tf_config': gpu_options {\n",
      "  per_process_gpu_memory_fraction: 1\n",
      "}\n",
      ", '_tf_random_seed': None, '_save_summary_steps': 100, '_save_checkpoints_secs': 600, '_save_checkpoints_steps': None, '_keep_checkpoint_max': 5, '_keep_checkpoint_every_n_hours': 10000}\n",
      "WARNING:tensorflow:From <ipython-input-6-fc7d18e63f01>:2: calling BaseEstimator.fit (from tensorflow.contrib.learn.python.learn.estimators.estimator) with x is deprecated and will be removed after 2016-12-01.\n",
      "Instructions for updating:\n",
      "Estimator is decoupled from Scikit Learn interface by moving into\n",
      "separate class SKCompat. Arguments x, y and batch_size are only\n",
      "available in the SKCompat class, Estimator will only accept input_fn.\n",
      "Example conversion:\n",
      "  est = Estimator(...) -> est = SKCompat(Estimator(...))\n",
      "WARNING:tensorflow:From <ipython-input-6-fc7d18e63f01>:2: calling BaseEstimator.fit (from tensorflow.contrib.learn.python.learn.estimators.estimator) with y is deprecated and will be removed after 2016-12-01.\n",
      "Instructions for updating:\n",
      "Estimator is decoupled from Scikit Learn interface by moving into\n",
      "separate class SKCompat. Arguments x, y and batch_size are only\n",
      "available in the SKCompat class, Estimator will only accept input_fn.\n",
      "Example conversion:\n",
      "  est = Estimator(...) -> est = SKCompat(Estimator(...))\n",
      "WARNING:tensorflow:From <ipython-input-6-fc7d18e63f01>:2: calling BaseEstimator.fit (from tensorflow.contrib.learn.python.learn.estimators.estimator) with batch_size is deprecated and will be removed after 2016-12-01.\n",
      "Instructions for updating:\n",
      "Estimator is decoupled from Scikit Learn interface by moving into\n",
      "separate class SKCompat. Arguments x, y and batch_size are only\n",
      "available in the SKCompat class, Estimator will only accept input_fn.\n",
      "Example conversion:\n",
      "  est = Estimator(...) -> est = SKCompat(Estimator(...))\n",
      "WARNING:tensorflow:From /Users/gaufung/anaconda/lib/python3.6/site-packages/tensorflow/contrib/learn/python/learn/estimators/head.py:1362: scalar_summary (from tensorflow.python.ops.logging_ops) is deprecated and will be removed after 2016-11-30.\n",
      "Instructions for updating:\n",
      "Please switch to tf.summary.scalar. Note that tf.summary.scalar uses the node name instead of the tag. This means that TensorFlow will automatically de-duplicate summary names based on the scope they are created in. Also, passing a tensor or list of tags to a scalar summary op is no longer supported.\n"
     ]
    },
    {
     "name": "stderr",
     "output_type": "stream",
     "text": [
      "/Users/gaufung/anaconda/lib/python3.6/site-packages/tensorflow/python/util/deprecation.py:247: FutureWarning: comparison to `None` will result in an elementwise object comparison in the future.\n",
      "  equality = a == b\n"
     ]
    },
    {
     "name": "stdout",
     "output_type": "stream",
     "text": [
      "INFO:tensorflow:Create CheckpointSaverHook.\n",
      "INFO:tensorflow:Saving checkpoints for 1 into /var/folders/k9/2cxh1k2115s_lw4wtq9mzj9m0000gp/T/tmp61zfqloa/model.ckpt.\n",
      "INFO:tensorflow:loss = 165.056, step = 1\n",
      "INFO:tensorflow:global_step/sec: 256.017\n",
      "INFO:tensorflow:loss = 1.42906, step = 101\n",
      "INFO:tensorflow:global_step/sec: 249.124\n",
      "INFO:tensorflow:loss = 1.04356, step = 201\n",
      "INFO:tensorflow:global_step/sec: 248.733\n",
      "INFO:tensorflow:loss = 0.812134, step = 301\n",
      "INFO:tensorflow:global_step/sec: 247.913\n",
      "INFO:tensorflow:loss = 0.957717, step = 401\n",
      "INFO:tensorflow:global_step/sec: 247.384\n",
      "INFO:tensorflow:loss = 0.758741, step = 501\n",
      "INFO:tensorflow:global_step/sec: 248.529\n",
      "INFO:tensorflow:loss = 0.541279, step = 601\n",
      "INFO:tensorflow:global_step/sec: 247.552\n",
      "INFO:tensorflow:loss = 0.722959, step = 701\n",
      "INFO:tensorflow:global_step/sec: 237.989\n",
      "INFO:tensorflow:loss = 1.04509, step = 801\n",
      "INFO:tensorflow:global_step/sec: 164.483\n",
      "INFO:tensorflow:loss = 0.706938, step = 901\n",
      "INFO:tensorflow:global_step/sec: 244.149\n",
      "INFO:tensorflow:loss = 0.834212, step = 1001\n",
      "INFO:tensorflow:global_step/sec: 224.278\n",
      "INFO:tensorflow:loss = 0.780301, step = 1101\n",
      "INFO:tensorflow:global_step/sec: 247.46\n",
      "INFO:tensorflow:loss = 0.692958, step = 1201\n",
      "INFO:tensorflow:global_step/sec: 172.307\n",
      "INFO:tensorflow:loss = 0.608676, step = 1301\n",
      "INFO:tensorflow:global_step/sec: 250.366\n",
      "INFO:tensorflow:loss = 0.438581, step = 1401\n",
      "INFO:tensorflow:global_step/sec: 223.476\n",
      "INFO:tensorflow:loss = 0.323293, step = 1501\n",
      "INFO:tensorflow:global_step/sec: 248.982\n",
      "INFO:tensorflow:loss = 0.563013, step = 1601\n",
      "INFO:tensorflow:global_step/sec: 249.544\n",
      "INFO:tensorflow:loss = 0.688146, step = 1701\n",
      "INFO:tensorflow:global_step/sec: 250.149\n",
      "INFO:tensorflow:loss = 0.532153, step = 1801\n",
      "INFO:tensorflow:global_step/sec: 250.848\n",
      "INFO:tensorflow:loss = 0.544147, step = 1901\n",
      "INFO:tensorflow:global_step/sec: 249.17\n",
      "INFO:tensorflow:loss = 0.973469, step = 2001\n",
      "INFO:tensorflow:global_step/sec: 249.224\n",
      "INFO:tensorflow:loss = 0.479811, step = 2101\n",
      "INFO:tensorflow:global_step/sec: 170.744\n",
      "INFO:tensorflow:loss = 0.516208, step = 2201\n",
      "INFO:tensorflow:global_step/sec: 249.823\n",
      "INFO:tensorflow:loss = 0.397478, step = 2301\n",
      "INFO:tensorflow:global_step/sec: 226.468\n",
      "INFO:tensorflow:loss = 0.528768, step = 2401\n",
      "INFO:tensorflow:global_step/sec: 249.989\n",
      "INFO:tensorflow:loss = 0.40761, step = 2501\n",
      "INFO:tensorflow:global_step/sec: 250.5\n",
      "INFO:tensorflow:loss = 0.40883, step = 2601\n",
      "INFO:tensorflow:global_step/sec: 251.099\n",
      "INFO:tensorflow:loss = 0.614126, step = 2701\n",
      "INFO:tensorflow:global_step/sec: 248.339\n",
      "INFO:tensorflow:loss = 0.642778, step = 2801\n",
      "INFO:tensorflow:global_step/sec: 248.794\n",
      "INFO:tensorflow:loss = 0.348966, step = 2901\n",
      "INFO:tensorflow:global_step/sec: 261.639\n",
      "INFO:tensorflow:loss = 0.417425, step = 3001\n",
      "INFO:tensorflow:global_step/sec: 262.894\n",
      "INFO:tensorflow:loss = 0.272277, step = 3101\n",
      "INFO:tensorflow:global_step/sec: 262.526\n",
      "INFO:tensorflow:loss = 0.663714, step = 3201\n",
      "INFO:tensorflow:global_step/sec: 262.424\n",
      "INFO:tensorflow:loss = 0.492602, step = 3301\n",
      "INFO:tensorflow:global_step/sec: 262.407\n",
      "INFO:tensorflow:loss = 0.20784, step = 3401\n",
      "INFO:tensorflow:global_step/sec: 260.055\n",
      "INFO:tensorflow:loss = 0.530628, step = 3501\n",
      "INFO:tensorflow:global_step/sec: 184.773\n",
      "INFO:tensorflow:loss = 0.363439, step = 3601\n",
      "INFO:tensorflow:global_step/sec: 202.65\n",
      "INFO:tensorflow:loss = 0.822878, step = 3701\n",
      "INFO:tensorflow:global_step/sec: 108.482\n",
      "INFO:tensorflow:loss = 0.343437, step = 3801\n",
      "INFO:tensorflow:global_step/sec: 151.499\n",
      "INFO:tensorflow:loss = 0.23094, step = 3901\n",
      "INFO:tensorflow:global_step/sec: 118.593\n",
      "INFO:tensorflow:loss = 0.239608, step = 4001\n",
      "INFO:tensorflow:global_step/sec: 117.615\n",
      "INFO:tensorflow:loss = 0.150983, step = 4101\n",
      "INFO:tensorflow:global_step/sec: 179.558\n",
      "INFO:tensorflow:loss = 0.399849, step = 4201\n",
      "INFO:tensorflow:global_step/sec: 205.962\n",
      "INFO:tensorflow:loss = 0.479784, step = 4301\n",
      "INFO:tensorflow:global_step/sec: 137.147\n",
      "INFO:tensorflow:loss = 0.444905, step = 4401\n",
      "INFO:tensorflow:global_step/sec: 124.675\n",
      "INFO:tensorflow:loss = 0.485847, step = 4501\n",
      "INFO:tensorflow:global_step/sec: 143.124\n",
      "INFO:tensorflow:loss = 0.255382, step = 4601\n",
      "INFO:tensorflow:global_step/sec: 227.174\n",
      "INFO:tensorflow:loss = 0.388032, step = 4701\n",
      "INFO:tensorflow:global_step/sec: 254.104\n",
      "INFO:tensorflow:loss = 0.588605, step = 4801\n",
      "INFO:tensorflow:global_step/sec: 257.295\n",
      "INFO:tensorflow:loss = 0.258408, step = 4901\n",
      "INFO:tensorflow:global_step/sec: 256.708\n",
      "INFO:tensorflow:loss = 0.404653, step = 5001\n",
      "INFO:tensorflow:global_step/sec: 245.011\n",
      "INFO:tensorflow:loss = 0.163583, step = 5101\n",
      "INFO:tensorflow:global_step/sec: 256.911\n",
      "INFO:tensorflow:loss = 0.139133, step = 5201\n",
      "INFO:tensorflow:global_step/sec: 256.064\n",
      "INFO:tensorflow:loss = 0.372589, step = 5301\n",
      "INFO:tensorflow:global_step/sec: 251.791\n",
      "INFO:tensorflow:loss = 0.403276, step = 5401\n",
      "INFO:tensorflow:global_step/sec: 255.318\n",
      "INFO:tensorflow:loss = 0.443107, step = 5501\n",
      "INFO:tensorflow:global_step/sec: 256.915\n",
      "INFO:tensorflow:loss = 0.163891, step = 5601\n",
      "INFO:tensorflow:global_step/sec: 254.314\n",
      "INFO:tensorflow:loss = 0.333597, step = 5701\n",
      "INFO:tensorflow:global_step/sec: 251.317\n",
      "INFO:tensorflow:loss = 0.39765, step = 5801\n",
      "INFO:tensorflow:global_step/sec: 254.496\n",
      "INFO:tensorflow:loss = 0.18838, step = 5901\n",
      "INFO:tensorflow:global_step/sec: 255.542\n",
      "INFO:tensorflow:loss = 0.321886, step = 6001\n",
      "INFO:tensorflow:global_step/sec: 255.854\n",
      "INFO:tensorflow:loss = 0.386814, step = 6101\n",
      "INFO:tensorflow:global_step/sec: 257.75\n",
      "INFO:tensorflow:loss = 0.331336, step = 6201\n",
      "INFO:tensorflow:global_step/sec: 256.816\n",
      "INFO:tensorflow:loss = 0.315265, step = 6301\n",
      "INFO:tensorflow:global_step/sec: 255.358\n",
      "INFO:tensorflow:loss = 0.255168, step = 6401\n",
      "INFO:tensorflow:global_step/sec: 256.632\n",
      "INFO:tensorflow:loss = 0.231519, step = 6501\n",
      "INFO:tensorflow:global_step/sec: 256.096\n",
      "INFO:tensorflow:loss = 0.773031, step = 6601\n",
      "INFO:tensorflow:global_step/sec: 259.148\n",
      "INFO:tensorflow:loss = 0.50403, step = 6701\n",
      "INFO:tensorflow:global_step/sec: 256.446\n",
      "INFO:tensorflow:loss = 0.178517, step = 6801\n",
      "INFO:tensorflow:global_step/sec: 255.895\n",
      "INFO:tensorflow:loss = 0.178232, step = 6901\n",
      "INFO:tensorflow:global_step/sec: 257.036\n",
      "INFO:tensorflow:loss = 0.241138, step = 7001\n",
      "INFO:tensorflow:global_step/sec: 254.61\n",
      "INFO:tensorflow:loss = 0.416128, step = 7101\n",
      "INFO:tensorflow:global_step/sec: 256.308\n",
      "INFO:tensorflow:loss = 0.226657, step = 7201\n",
      "INFO:tensorflow:global_step/sec: 256.201\n",
      "INFO:tensorflow:loss = 0.292409, step = 7301\n",
      "INFO:tensorflow:global_step/sec: 254.967\n",
      "INFO:tensorflow:loss = 0.220812, step = 7401\n",
      "INFO:tensorflow:global_step/sec: 256.871\n",
      "INFO:tensorflow:loss = 0.195961, step = 7501\n",
      "INFO:tensorflow:global_step/sec: 252.951\n",
      "INFO:tensorflow:loss = 0.114552, step = 7601\n",
      "INFO:tensorflow:global_step/sec: 257.229\n",
      "INFO:tensorflow:loss = 0.425798, step = 7701\n",
      "INFO:tensorflow:global_step/sec: 255.898\n",
      "INFO:tensorflow:loss = 0.086746, step = 7801\n",
      "INFO:tensorflow:global_step/sec: 254.576\n",
      "INFO:tensorflow:loss = 0.408964, step = 7901\n",
      "INFO:tensorflow:global_step/sec: 256.99\n",
      "INFO:tensorflow:loss = 0.173629, step = 8001\n",
      "INFO:tensorflow:global_step/sec: 254.871\n",
      "INFO:tensorflow:loss = 0.366805, step = 8101\n",
      "INFO:tensorflow:global_step/sec: 257.028\n",
      "INFO:tensorflow:loss = 0.303437, step = 8201\n",
      "INFO:tensorflow:global_step/sec: 254.833\n",
      "INFO:tensorflow:loss = 0.443231, step = 8301\n",
      "INFO:tensorflow:global_step/sec: 255.842\n",
      "INFO:tensorflow:loss = 0.319134, step = 8401\n",
      "INFO:tensorflow:global_step/sec: 255.555\n",
      "INFO:tensorflow:loss = 0.253346, step = 8501\n",
      "INFO:tensorflow:global_step/sec: 255.761\n",
      "INFO:tensorflow:loss = 0.28336, step = 8601\n",
      "INFO:tensorflow:global_step/sec: 255.614\n",
      "INFO:tensorflow:loss = 0.262185, step = 8701\n",
      "INFO:tensorflow:global_step/sec: 256.169\n",
      "INFO:tensorflow:loss = 0.319929, step = 8801\n",
      "INFO:tensorflow:global_step/sec: 257.613\n",
      "INFO:tensorflow:loss = 0.189217, step = 8901\n",
      "INFO:tensorflow:global_step/sec: 253.541\n",
      "INFO:tensorflow:loss = 0.341721, step = 9001\n",
      "INFO:tensorflow:global_step/sec: 257.069\n",
      "INFO:tensorflow:loss = 0.36073, step = 9101\n",
      "INFO:tensorflow:global_step/sec: 254.505\n",
      "INFO:tensorflow:loss = 0.238984, step = 9201\n",
      "INFO:tensorflow:global_step/sec: 258.232\n",
      "INFO:tensorflow:loss = 0.242113, step = 9301\n",
      "INFO:tensorflow:global_step/sec: 256.453\n",
      "INFO:tensorflow:loss = 0.135306, step = 9401\n",
      "INFO:tensorflow:global_step/sec: 254.623\n",
      "INFO:tensorflow:loss = 0.360465, step = 9501\n",
      "INFO:tensorflow:global_step/sec: 255.35\n",
      "INFO:tensorflow:loss = 0.308713, step = 9601\n",
      "INFO:tensorflow:global_step/sec: 255.554\n",
      "INFO:tensorflow:loss = 0.20967, step = 9701\n",
      "INFO:tensorflow:global_step/sec: 256.616\n",
      "INFO:tensorflow:loss = 0.111056, step = 9801\n",
      "INFO:tensorflow:global_step/sec: 255.57\n",
      "INFO:tensorflow:loss = 0.298713, step = 9901\n",
      "INFO:tensorflow:Saving checkpoints for 10000 into /var/folders/k9/2cxh1k2115s_lw4wtq9mzj9m0000gp/T/tmp61zfqloa/model.ckpt.\n",
      "INFO:tensorflow:Loss for final step: 0.0735175.\n"
     ]
    },
    {
     "data": {
      "text/plain": [
       "DNNClassifier(params={'head': <tensorflow.contrib.learn.python.learn.estimators.head._MultiClassHead object at 0x11c910cc0>, 'hidden_units': [300, 100], 'feature_columns': (_RealValuedColumn(column_name='', dimension=784, default_value=None, dtype=tf.uint8, normalizer=None),), 'optimizer': None, 'activation_fn': <function relu at 0x11727c840>, 'dropout': None, 'gradient_clip_norm': None, 'embedding_lr_multipliers': None, 'input_layer_min_slice_size': None})"
      ]
     },
     "execution_count": 6,
     "metadata": {},
     "output_type": "execute_result"
    }
   ],
   "source": [
    "dnn_clf = tf.contrib.learn.DNNClassifier(hidden_units=[300, 100], n_classes=10, feature_columns=feature_columns)\n",
    "dnn_clf.fit(x=X_train, y=y_train, batch_size=50, steps=10000)"
   ]
  },
  {
   "cell_type": "code",
   "execution_count": 7,
   "metadata": {
    "collapsed": false
   },
   "outputs": [
    {
     "name": "stdout",
     "output_type": "stream",
     "text": [
      "WARNING:tensorflow:From /Users/gaufung/anaconda/lib/python3.6/site-packages/tensorflow/contrib/learn/python/learn/estimators/dnn.py:374: calling BaseEstimator.predict (from tensorflow.contrib.learn.python.learn.estimators.estimator) with x is deprecated and will be removed after 2016-12-01.\n",
      "Instructions for updating:\n",
      "Estimator is decoupled from Scikit Learn interface by moving into\n",
      "separate class SKCompat. Arguments x, y and batch_size are only\n",
      "available in the SKCompat class, Estimator will only accept input_fn.\n",
      "Example conversion:\n",
      "  est = Estimator(...) -> est = SKCompat(Estimator(...))\n"
     ]
    },
    {
     "name": "stderr",
     "output_type": "stream",
     "text": [
      "/Users/gaufung/anaconda/lib/python3.6/site-packages/tensorflow/python/util/deprecation.py:247: FutureWarning: comparison to `None` will result in an elementwise object comparison in the future.\n",
      "  equality = a == b\n"
     ]
    },
    {
     "data": {
      "text/plain": [
       "0.92469999999999997"
      ]
     },
     "execution_count": 7,
     "metadata": {},
     "output_type": "execute_result"
    }
   ],
   "source": [
    "from sklearn.metrics import accuracy_score\n",
    "y_pred = list(dnn_clf.predict(X_test))\n",
    "accuracy_score(y_pred, y_test)"
   ]
  },
  {
   "cell_type": "code",
   "execution_count": 8,
   "metadata": {
    "collapsed": false
   },
   "outputs": [
    {
     "name": "stdout",
     "output_type": "stream",
     "text": [
      "WARNING:tensorflow:From <ipython-input-8-8442dafa3532>:1: calling BaseEstimator.evaluate (from tensorflow.contrib.learn.python.learn.estimators.estimator) with x is deprecated and will be removed after 2016-12-01.\n",
      "Instructions for updating:\n",
      "Estimator is decoupled from Scikit Learn interface by moving into\n",
      "separate class SKCompat. Arguments x, y and batch_size are only\n",
      "available in the SKCompat class, Estimator will only accept input_fn.\n",
      "Example conversion:\n",
      "  est = Estimator(...) -> est = SKCompat(Estimator(...))\n",
      "WARNING:tensorflow:From <ipython-input-8-8442dafa3532>:1: calling BaseEstimator.evaluate (from tensorflow.contrib.learn.python.learn.estimators.estimator) with y is deprecated and will be removed after 2016-12-01.\n",
      "Instructions for updating:\n",
      "Estimator is decoupled from Scikit Learn interface by moving into\n",
      "separate class SKCompat. Arguments x, y and batch_size are only\n",
      "available in the SKCompat class, Estimator will only accept input_fn.\n",
      "Example conversion:\n",
      "  est = Estimator(...) -> est = SKCompat(Estimator(...))\n",
      "WARNING:tensorflow:From /Users/gaufung/anaconda/lib/python3.6/site-packages/tensorflow/contrib/learn/python/learn/estimators/head.py:1362: scalar_summary (from tensorflow.python.ops.logging_ops) is deprecated and will be removed after 2016-11-30.\n",
      "Instructions for updating:\n",
      "Please switch to tf.summary.scalar. Note that tf.summary.scalar uses the node name instead of the tag. This means that TensorFlow will automatically de-duplicate summary names based on the scope they are created in. Also, passing a tensor or list of tags to a scalar summary op is no longer supported.\n"
     ]
    },
    {
     "name": "stderr",
     "output_type": "stream",
     "text": [
      "/Users/gaufung/anaconda/lib/python3.6/site-packages/tensorflow/python/util/deprecation.py:247: FutureWarning: comparison to `None` will result in an elementwise object comparison in the future.\n",
      "  equality = a == b\n"
     ]
    },
    {
     "name": "stdout",
     "output_type": "stream",
     "text": [
      "INFO:tensorflow:Starting evaluation at 2017-11-10-08:58:20\n",
      "INFO:tensorflow:Finished evaluation at 2017-11-10-08:58:22\n",
      "INFO:tensorflow:Saving dict for global step 10000: accuracy = 0.9247, auc = 0.991231, global_step = 10000, loss = 0.300093\n",
      "WARNING:tensorflow:Skipping summary for global_step, must be a float or np.float32.\n"
     ]
    },
    {
     "data": {
      "text/plain": [
       "{'accuracy': 0.92470002,\n",
       " 'auc': 0.99123085,\n",
       " 'global_step': 10000,\n",
       " 'loss': 0.30009314}"
      ]
     },
     "execution_count": 8,
     "metadata": {},
     "output_type": "execute_result"
    }
   ],
   "source": [
    "dnn_clf.evaluate(X_test, y_test)"
   ]
  },
  {
   "cell_type": "markdown",
   "metadata": {},
   "source": [
    "# Training a DNN Using Plain Tensorflow"
   ]
  },
  {
   "cell_type": "markdown",
   "metadata": {},
   "source": [
    "### Constrution Phase"
   ]
  },
  {
   "cell_type": "code",
   "execution_count": 9,
   "metadata": {
    "collapsed": true
   },
   "outputs": [],
   "source": [
    "import tensorflow as tf\n",
    "n_inputs = 28 * 28\n",
    "n_hidden1 = 300\n",
    "n_hidden2 = 100\n",
    "n_outputs = 10"
   ]
  },
  {
   "cell_type": "code",
   "execution_count": 10,
   "metadata": {
    "collapsed": true
   },
   "outputs": [],
   "source": [
    "X = tf.placeholder(tf.float32, shape=(None, n_inputs), name='X')\n",
    "y = tf.placeholder(tf.int32, shape=(None), name='y')"
   ]
  },
  {
   "cell_type": "code",
   "execution_count": 11,
   "metadata": {
    "collapsed": false
   },
   "outputs": [],
   "source": [
    "def neuron_layer(X, n_neurons, name, activition=None):\n",
    "    with tf.name_scope(name):\n",
    "        n_inputs = int(X.get_shape()[1])\n",
    "        stddev = 2 / np.sqrt(n_inputs)\n",
    "        init = tf.truncated_normal((n_inputs, n_neurons), stddev=stddev)\n",
    "        W = tf.Variable(init, name='weights')\n",
    "        b = tf.Variable(tf.zeros([n_neurons]), name='biases')\n",
    "        z = tf.matmul(X, W) + b\n",
    "        if activition == 'relu':\n",
    "            return tf.nn.relu(z)\n",
    "        else:\n",
    "            return z"
   ]
  },
  {
   "cell_type": "code",
   "execution_count": 12,
   "metadata": {
    "collapsed": true
   },
   "outputs": [],
   "source": [
    "with tf.name_scope('dnn'):\n",
    "    hidden1 = neuron_layer(X, n_hidden1, \"hidden1\", 'relu')\n",
    "    hidden2 = neuron_layer(hidden1, n_hidden2, 'hidden2', 'relu')\n",
    "    logits = neuron_layer(hidden2, n_outputs, 'outputs')"
   ]
  },
  {
   "cell_type": "code",
   "execution_count": 13,
   "metadata": {
    "collapsed": true
   },
   "outputs": [],
   "source": [
    "from tensorflow.contrib.layers import fully_connected\n",
    "with tf.name_scope('dnn'):\n",
    "    hidden1 = fully_connected(X, n_hidden1, scope='hidden1')\n",
    "    hidden2 = fully_connected(hidden1, n_hidden2, scope='hidden2')\n",
    "    logits = fully_connected(hidden2, n_outputs, scope='outputs', activation_fn=None)"
   ]
  },
  {
   "cell_type": "code",
   "execution_count": 14,
   "metadata": {
    "collapsed": false
   },
   "outputs": [],
   "source": [
    "with tf.name_scope('loss'):\n",
    "    xentropy = tf.nn.sparse_softmax_cross_entropy_with_logits(labels=y, logits=logits)\n",
    "    loss = tf.reduce_mean(xentropy, name='loss')"
   ]
  },
  {
   "cell_type": "code",
   "execution_count": 15,
   "metadata": {
    "collapsed": false
   },
   "outputs": [],
   "source": [
    "learning_rate = 0.01\n",
    "with tf.name_scope('train'):\n",
    "    optimizer = tf.train.GradientDescentOptimizer(learning_rate)\n",
    "    training_op = optimizer.minimize(loss)"
   ]
  },
  {
   "cell_type": "code",
   "execution_count": 16,
   "metadata": {
    "collapsed": true
   },
   "outputs": [],
   "source": [
    "with tf.name_scope('eval'):\n",
    "    correct = tf.nn.in_top_k(logits, y, 1)\n",
    "    accuary = tf.reduce_mean(tf.cast(correct, tf.float32))"
   ]
  },
  {
   "cell_type": "code",
   "execution_count": 17,
   "metadata": {
    "collapsed": true
   },
   "outputs": [],
   "source": [
    "init = tf.global_variables_initializer()\n",
    "saver = tf.train.Saver()"
   ]
  },
  {
   "cell_type": "markdown",
   "metadata": {},
   "source": [
    "###  Execution Phase"
   ]
  },
  {
   "cell_type": "code",
   "execution_count": 18,
   "metadata": {
    "collapsed": false
   },
   "outputs": [],
   "source": [
    "from sklearn.datasets import fetch_mldata\n",
    "mnist = fetch_mldata('MNIST original')\n",
    "data = mnist.data\n",
    "target = mnist.target.astype(np.int)\n",
    "X_train = data[:60000]\n",
    "y_train = target[:60000].astype(np.int32)\n",
    "X_test = data[60000:]\n",
    "y_test = target[60000:].astype(np.int32)"
   ]
  },
  {
   "cell_type": "code",
   "execution_count": 19,
   "metadata": {
    "collapsed": true
   },
   "outputs": [],
   "source": [
    "def fetch_batch(epoch, batch, batch_size):\n",
    "    np.random.seed(epoch+batch+42)\n",
    "    indices = np.random.randint(60000, size=batch_size)\n",
    "    X_batch = X_train[indices]\n",
    "    y_batch = y_train[indices]\n",
    "    return X_batch, y_batch"
   ]
  },
  {
   "cell_type": "code",
   "execution_count": 20,
   "metadata": {
    "collapsed": false
   },
   "outputs": [
    {
     "name": "stdout",
     "output_type": "stream",
     "text": [
      "0 train accuary: 0.1 Test accuary: 0.1135\n",
      "1 train accuary: 0.08 Test accuary: 0.1135\n",
      "2 train accuary: 0.2 Test accuary: 0.1135\n",
      "3 train accuary: 0.12 Test accuary: 0.1135\n",
      "4 train accuary: 0.1 Test accuary: 0.1135\n",
      "5 train accuary: 0.06 Test accuary: 0.1135\n",
      "6 train accuary: 0.08 Test accuary: 0.1135\n",
      "7 train accuary: 0.04 Test accuary: 0.1135\n",
      "8 train accuary: 0.18 Test accuary: 0.1135\n",
      "9 train accuary: 0.12 Test accuary: 0.1135\n"
     ]
    }
   ],
   "source": [
    "n_epoch = 10\n",
    "batch_size = 50\n",
    "with tf.Session() as sess:\n",
    "    init.run()\n",
    "    for epoch in range(n_epoch):\n",
    "        for batch in range(60000//batch_size):\n",
    "            X_batch, y_batch = fetch_batch(epoch, batch, batch_size)\n",
    "            sess.run(training_op, feed_dict={X:X_batch, y:y_batch})\n",
    "        acc_train = accuary.eval(feed_dict={X:X_batch, y:y_batch})\n",
    "        acc_test = accuary.eval(feed_dict={X:X_test, y:y_test})\n",
    "        print(epoch, \"train accuary:\", acc_train, 'Test accuary:', acc_test)\n",
    "    save_path = saver.save(sess, './my_model_final.ckpt')"
   ]
  },
  {
   "cell_type": "markdown",
   "metadata": {},
   "source": [
    "### Using the Neural Network"
   ]
  },
  {
   "cell_type": "code",
   "execution_count": 22,
   "metadata": {
    "collapsed": false
   },
   "outputs": [],
   "source": [
    "with tf.Session() as sess:\n",
    "    saver.restore(sess, './my_model_final.ckpt')\n",
    "    Z = logits.eval(feed_dict={X:X_test})\n",
    "    y_pred = np.argmax(Z, axis=1)"
   ]
  },
  {
   "cell_type": "code",
   "execution_count": 23,
   "metadata": {
    "collapsed": false
   },
   "outputs": [
    {
     "data": {
      "text/plain": [
       "0.1135"
      ]
     },
     "execution_count": 23,
     "metadata": {},
     "output_type": "execute_result"
    }
   ],
   "source": [
    "accuracy_score(y_pred, y_test)"
   ]
  }
 ],
 "metadata": {
  "kernelspec": {
   "display_name": "Python 3",
   "language": "python",
   "name": "python3"
  },
  "language_info": {
   "codemirror_mode": {
    "name": "ipython",
    "version": 3
   },
   "file_extension": ".py",
   "mimetype": "text/x-python",
   "name": "python",
   "nbconvert_exporter": "python",
   "pygments_lexer": "ipython3",
   "version": "3.6.0"
  }
 },
 "nbformat": 4,
 "nbformat_minor": 2
}
