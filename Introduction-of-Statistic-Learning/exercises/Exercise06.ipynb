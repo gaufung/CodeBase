{
 "cells": [
  {
   "cell_type": "markdown",
   "metadata": {},
   "source": [
    "**Chapter 06**"
   ]
  },
  {
   "cell_type": "code",
   "execution_count": 1,
   "metadata": {
    "collapsed": true
   },
   "outputs": [],
   "source": [
    "import numpy as np\n",
    "import pandas as pd\n",
    "import matplotlib.pyplot as plt\n",
    "import statsmodels as sm\n",
    "%matplotlib inline"
   ]
  },
  {
   "cell_type": "markdown",
   "metadata": {},
   "source": [
    "# 8\n",
    "## 8(a)"
   ]
  },
  {
   "cell_type": "code",
   "execution_count": 106,
   "metadata": {
    "collapsed": true
   },
   "outputs": [],
   "source": [
    "x = np.random.normal(0,1,100)\n",
    "epsilon = np.random.normal(0,1,100)"
   ]
  },
  {
   "cell_type": "markdown",
   "metadata": {},
   "source": [
    "## 8(b)"
   ]
  },
  {
   "cell_type": "code",
   "execution_count": 107,
   "metadata": {
    "collapsed": false
   },
   "outputs": [],
   "source": [
    "beta_0 = 3\n",
    "beta_1 = 2\n",
    "beta_2 = -3\n",
    "beta_3 = 0.3\n",
    "y = beta_0 + beta_1 * x + beta_2 * x**2 + beta_3 * x**3 + epsilon"
   ]
  },
  {
   "cell_type": "markdown",
   "metadata": {},
   "source": [
    "## 8(c)"
   ]
  },
  {
   "cell_type": "code",
   "execution_count": 86,
   "metadata": {
    "collapsed": false
   },
   "outputs": [
    {
     "data": {
      "text/html": [
       "<div>\n",
       "<table border=\"1\" class=\"dataframe\">\n",
       "  <thead>\n",
       "    <tr style=\"text-align: right;\">\n",
       "      <th></th>\n",
       "      <th>x1</th>\n",
       "      <th>x10</th>\n",
       "      <th>x2</th>\n",
       "      <th>x3</th>\n",
       "      <th>x4</th>\n",
       "      <th>x5</th>\n",
       "      <th>x6</th>\n",
       "      <th>x7</th>\n",
       "      <th>x8</th>\n",
       "      <th>x9</th>\n",
       "      <th>y</th>\n",
       "    </tr>\n",
       "  </thead>\n",
       "  <tbody>\n",
       "    <tr>\n",
       "      <th>0</th>\n",
       "      <td>-0.344676</td>\n",
       "      <td>0.000024</td>\n",
       "      <td>0.118802</td>\n",
       "      <td>-0.040948</td>\n",
       "      <td>0.014114</td>\n",
       "      <td>-0.004865</td>\n",
       "      <td>0.001677</td>\n",
       "      <td>-0.000578</td>\n",
       "      <td>0.000199</td>\n",
       "      <td>-0.000069</td>\n",
       "      <td>2.769594</td>\n",
       "    </tr>\n",
       "    <tr>\n",
       "      <th>1</th>\n",
       "      <td>0.425319</td>\n",
       "      <td>0.000194</td>\n",
       "      <td>0.180896</td>\n",
       "      <td>0.076938</td>\n",
       "      <td>0.032723</td>\n",
       "      <td>0.013918</td>\n",
       "      <td>0.005920</td>\n",
       "      <td>0.002518</td>\n",
       "      <td>0.001071</td>\n",
       "      <td>0.000455</td>\n",
       "      <td>3.171655</td>\n",
       "    </tr>\n",
       "    <tr>\n",
       "      <th>2</th>\n",
       "      <td>-2.066980</td>\n",
       "      <td>1423.519415</td>\n",
       "      <td>4.272408</td>\n",
       "      <td>-8.830982</td>\n",
       "      <td>18.253467</td>\n",
       "      <td>-37.729556</td>\n",
       "      <td>77.986250</td>\n",
       "      <td>-161.196043</td>\n",
       "      <td>333.189047</td>\n",
       "      <td>-688.695199</td>\n",
       "      <td>-18.526179</td>\n",
       "    </tr>\n",
       "    <tr>\n",
       "      <th>3</th>\n",
       "      <td>0.561032</td>\n",
       "      <td>0.003089</td>\n",
       "      <td>0.314757</td>\n",
       "      <td>0.176588</td>\n",
       "      <td>0.099072</td>\n",
       "      <td>0.055582</td>\n",
       "      <td>0.031183</td>\n",
       "      <td>0.017495</td>\n",
       "      <td>0.009815</td>\n",
       "      <td>0.005507</td>\n",
       "      <td>4.092179</td>\n",
       "    </tr>\n",
       "    <tr>\n",
       "      <th>4</th>\n",
       "      <td>-0.350250</td>\n",
       "      <td>0.000028</td>\n",
       "      <td>0.122675</td>\n",
       "      <td>-0.042967</td>\n",
       "      <td>0.015049</td>\n",
       "      <td>-0.005271</td>\n",
       "      <td>0.001846</td>\n",
       "      <td>-0.000647</td>\n",
       "      <td>0.000226</td>\n",
       "      <td>-0.000079</td>\n",
       "      <td>2.738207</td>\n",
       "    </tr>\n",
       "  </tbody>\n",
       "</table>\n",
       "</div>"
      ],
      "text/plain": [
       "         x1          x10        x2        x3         x4         x5         x6  \\\n",
       "0 -0.344676     0.000024  0.118802 -0.040948   0.014114  -0.004865   0.001677   \n",
       "1  0.425319     0.000194  0.180896  0.076938   0.032723   0.013918   0.005920   \n",
       "2 -2.066980  1423.519415  4.272408 -8.830982  18.253467 -37.729556  77.986250   \n",
       "3  0.561032     0.003089  0.314757  0.176588   0.099072   0.055582   0.031183   \n",
       "4 -0.350250     0.000028  0.122675 -0.042967   0.015049  -0.005271   0.001846   \n",
       "\n",
       "           x7          x8          x9          y  \n",
       "0   -0.000578    0.000199   -0.000069   2.769594  \n",
       "1    0.002518    0.001071    0.000455   3.171655  \n",
       "2 -161.196043  333.189047 -688.695199 -18.526179  \n",
       "3    0.017495    0.009815    0.005507   4.092179  \n",
       "4   -0.000647    0.000226   -0.000079   2.738207  "
      ]
     },
     "execution_count": 86,
     "metadata": {},
     "output_type": "execute_result"
    }
   ],
   "source": [
    "data = pd.DataFrame({\n",
    "    'y' : y,\n",
    "    'x1' : x,\n",
    "    'x2' : x**2,\n",
    "    'x3' : x**3,\n",
    "    'x4' : x**4,\n",
    "    'x5' : x**5,\n",
    "    'x6' : x**6,\n",
    "    'x7' : x**7,\n",
    "    'x8' : x**8,\n",
    "    'x9' : x**9,\n",
    "    'x10' : x**10\n",
    "})\n",
    "data.head()"
   ]
  },
  {
   "cell_type": "code",
   "execution_count": 91,
   "metadata": {
    "collapsed": false
   },
   "outputs": [
    {
     "data": {
      "image/png": "[encoded data removed]",
      "text/plain": [
       "<matplotlib.figure.Figure at 0x10ed08860>"
      ]
     },
     "metadata": {},
     "output_type": "display_data"
    }
   ],
   "source": [
    "from statsmodels.formula.api import ols\n",
    "import re\n",
    "# use regularizaion rule to extact the bic and ajust r squared\n",
    "def bic(text):\n",
    "    pattern = r'BIC:\\s+ [-+]?\\d+[\\.]?\\d*[eE]?[-+]?\\d*'\n",
    "    group = re.search(pattern, text)[0]\n",
    "    pattern = r'[\\d\\.]+'\n",
    "    return float(re.search(pattern, group)[0])\n",
    "def adjust_r_square(text):\n",
    "    pattern = r'dj. R-squared:\\s+ [-+]?\\d+[\\.]?\\d*[eE]?[-+]?\\d*'\n",
    "    group = re.search(pattern, text)[0]\n",
    "    pattern =r'[-+]?\\d+[\\.]?\\d*[eE]?[-+]?\\d*'\n",
    "    return float(re.search(pattern, group)[0])\n",
    "def ols_indexes(formula):\n",
    "    model = ols(formula, data=data).fit()\n",
    "    model_summary = model.summary()\n",
    "    text = model_summary.as_text()\n",
    "    return bic(text), adjust_r_square(text)\n",
    "bics = []\n",
    "ajust_r_square = []\n",
    "formulas = ['y ~ x1','y ~ x1+x2', 'y ~ x1+x2+x3','y ~ x1+x2+x3+x4','y ~ x1+x2+x3+x4+x5',\n",
    "            'y ~ x1+x2+x3+x4+x5+x6', 'y ~ x1+x2+x3+x4+x5+x6+x7',\n",
    "            'y ~ x1+x2+x3+x4+x5+x6+x7+x8', 'y ~ x1+x2+x3+x4+x5+x6+x7+x8+x9',\n",
    "           'y ~ x1+x2+x3+x4+x5+x6+x7+x8+x9+x10']\n",
    "for formula in formulas:\n",
    "    indexes = ols_indexes(formula)\n",
    "    bics.append(indexes[0])\n",
    "    ajust_r_square.append(indexes[1])\n",
    "x = np.arange(1,11)\n",
    "plt.subplot(1,2,1)\n",
    "plt.plot(x, bics)\n",
    "plt.scatter([x[2]],[bics[2]],marker='*',c='r')\n",
    "plt.subplot(1,2,2)\n",
    "plt.plot(x, ajust_r_square)\n",
    "plt.scatter([x[2]],[ajust_r_square[2]],marker='*',c='r')\n",
    "plt.show()"
   ]
  },
  {
   "cell_type": "markdown",
   "metadata": {},
   "source": [
    "Above illustrating two images, we conclude that $y=\\beta_0 + \\beta_1x+\\beta_2x^2+\\beta_3x^3$ approach fits the response best."
   ]
  },
  {
   "cell_type": "markdown",
   "metadata": {},
   "source": [
    "## 8(d)"
   ]
  },
  {
   "cell_type": "code",
   "execution_count": 94,
   "metadata": {
    "collapsed": false
   },
   "outputs": [
    {
     "data": {
      "text/plain": [
       "array([ True,  True,  True, False, False, False, False, False, False, False], dtype=bool)"
      ]
     },
     "execution_count": 94,
     "metadata": {},
     "output_type": "execute_result"
    }
   ],
   "source": [
    "from sklearn.linear_model import LinearRegression\n",
    "from sklearn.feature_selection import RFE\n",
    "X = data[['x1','x2','x3','x4','x5','x6','x7','x8','x9','x10']]\n",
    "y = data['y']\n",
    "esitmator = LinearRegression()\n",
    "selector = RFE(esitmator, 3, step=1)\n",
    "selector = selector.fit(X,y)\n",
    "selector.support_"
   ]
  },
  {
   "cell_type": "markdown",
   "metadata": {},
   "source": [
    "From the RFE selector, we know that first three predictors are choen as the best preditors which is same with subsection above (c)."
   ]
  },
  {
   "cell_type": "markdown",
   "metadata": {},
   "source": [
    "## 8(e)"
   ]
  },
  {
   "cell_type": "code",
   "execution_count": 99,
   "metadata": {
    "collapsed": false
   },
   "outputs": [
    {
     "name": "stderr",
     "output_type": "stream",
     "text": [
      "/Users/gaufung/anaconda/lib/python3.6/site-packages/sklearn/linear_model/coordinate_descent.py:484: ConvergenceWarning: Objective did not converge. You might want to increase the number of iterations. Fitting data with very small alpha may cause precision problems.\n",
      "  ConvergenceWarning)\n"
     ]
    },
    {
     "data": {
      "image/png": "[encoded data removed]",
      "text/plain": [
       "<matplotlib.figure.Figure at 0x10f465860>"
      ]
     },
     "metadata": {},
     "output_type": "display_data"
    }
   ],
   "source": [
    "from sklearn import linear_model\n",
    "from sklearn.model_selection import train_test_split\n",
    "X = data[['x1','x2','x3','x4','x5','x6','x7','x8','x9','x10']]\n",
    "y = data['y']\n",
    "X_train, X_test, y_train, y_test = train_test_split(X,y, test_size=0.4, random_state=0)\n",
    "lambdas = [0.01, 0.05, 0.1, 0.5, 1, 5, 10, 50, 100]\n",
    "lambdas = [0.001, 0.005, 0.01, 0.05, 0.1, 0.2,0.4,0.5,0.8,1]\n",
    "mse_scores = []\n",
    "for lam in lambdas:\n",
    "    clf = linear_model.Lasso(alpha=lam)\n",
    "    clf.fit(X_train, y_train)\n",
    "    pred = clf.predict(X_test)\n",
    "    residuals = y_test - pred\n",
    "    mse_scores.append(np.sum(residuals**2)/residuals.shape[0])\n",
    "x_coord = range(1, 11,1)\n",
    "plt.plot(x_coord, mse_scores)\n",
    "plt.xticks(x_coord, lambdas)\n",
    "plt.xlabel(r'$\\lambda$')\n",
    "plt.ylabel('MES')\n",
    "plt.show()"
   ]
  },
  {
   "cell_type": "code",
   "execution_count": 102,
   "metadata": {
    "collapsed": false
   },
   "outputs": [
    {
     "name": "stdout",
     "output_type": "stream",
     "text": [
      "[  2.30057358e+00  -3.89432316e+00  -2.16565352e-01   2.64380758e-01\n",
      "   1.81831769e-01   2.34063146e-02  -5.95877584e-03  -2.52804106e-03\n",
      "  -2.64961765e-03  -9.33027715e-04]\n"
     ]
    },
    {
     "name": "stderr",
     "output_type": "stream",
     "text": [
      "/Users/gaufung/anaconda/lib/python3.6/site-packages/ipykernel/__main__.py:2: UserWarning: With alpha=0, this algorithm does not converge well. You are advised to use the LinearRegression estimator\n",
      "  from ipykernel import kernelapp as app\n",
      "/Users/gaufung/anaconda/lib/python3.6/site-packages/sklearn/linear_model/coordinate_descent.py:470: UserWarning: Coordinate descent with alpha=0 may lead to unexpected results and is discouraged.\n",
      "  positive)\n",
      "/Users/gaufung/anaconda/lib/python3.6/site-packages/sklearn/linear_model/coordinate_descent.py:484: ConvergenceWarning: Objective did not converge. You might want to increase the number of iterations. Fitting data with very small alpha may cause precision problems.\n",
      "  ConvergenceWarning)\n"
     ]
    }
   ],
   "source": [
    "clf = linear_model.Lasso(alpha=0)\n",
    "clf.fit(X_train, y_train)\n",
    "print(clf.coef_)"
   ]
  },
  {
   "cell_type": "code",
   "execution_count": 103,
   "metadata": {
    "collapsed": false
   },
   "outputs": [
    {
     "name": "stdout",
     "output_type": "stream",
     "text": [
      "3.25192450212\n"
     ]
    }
   ],
   "source": [
    "print(clf.intercept_)"
   ]
  },
  {
   "cell_type": "markdown",
   "metadata": {},
   "source": [
    "## 8(f)"
   ]
  },
  {
   "cell_type": "code",
   "execution_count": 108,
   "metadata": {
    "collapsed": false
   },
   "outputs": [],
   "source": [
    "beta_7 = 8\n",
    "y = beta_0 + beta_7 * x**7+epsilon"
   ]
  },
  {
   "cell_type": "code",
   "execution_count": 113,
   "metadata": {
    "collapsed": false
   },
   "outputs": [
    {
     "data": {
      "image/png": "[encoded data removed]",
      "text/plain": [
       "<matplotlib.figure.Figure at 0x10f7a2278>"
      ]
     },
     "metadata": {},
     "output_type": "display_data"
    }
   ],
   "source": [
    "data = pd.DataFrame({\n",
    "    'y':y,\n",
    "    'x1' : x,\n",
    "    'x2' : x**2,\n",
    "    'x3' : x**3,\n",
    "    'x4' : x**4,\n",
    "    'x5' : x**5,\n",
    "    'x6' : x**6,\n",
    "    'x7' : x**7,\n",
    "    'x8' : x**8,\n",
    "    'x9' : x**9,\n",
    "    'x10' : x**10\n",
    "})\n",
    "X = data[['x1','x2','x3','x4','x5','x6','x7','x8','x9','x10']]\n",
    "y = data['y']\n",
    "X_train, X_test, y_train, y_test = train_test_split(X,y, test_size=0.2, random_state=0)\n",
    "lambdas = [0.001, 0.005, 0.01, 0.05, 0.1, 0.2,0.4,0.5,0.8,1]\n",
    "mse_scores = []\n",
    "for lam in lambdas:\n",
    "    clf = linear_model.Lasso(alpha=lam)\n",
    "    clf.fit(X_train, y_train)\n",
    "    pred = clf.predict(X_test)\n",
    "    residuals = y_test - pred\n",
    "    mse_scores.append(np.sum(residuals**2)/residuals.shape[0])\n",
    "x_coord = range(1, 11,1)\n",
    "plt.plot(x_coord, mse_scores)\n",
    "plt.xticks(x_coord, lambdas)\n",
    "plt.xlabel(r'$\\lambda$')\n",
    "plt.ylabel('MES')\n",
    "plt.show()"
   ]
  },
  {
   "cell_type": "code",
   "execution_count": 114,
   "metadata": {
    "collapsed": false
   },
   "outputs": [
    {
     "name": "stdout",
     "output_type": "stream",
     "text": [
      "[-0.          0.         -4.67409123  1.63373437  7.92142919 -1.35760926\n",
      "  4.17687551  0.08642549  0.56824255  0.05903364]\n",
      "2.94685048917\n"
     ]
    }
   ],
   "source": [
    "clf = linear_model.Lasso(alpha=0.2)\n",
    "clf.fit(X_train, y_train)\n",
    "print(clf.coef_)\n",
    "print(clf.intercept_)"
   ]
  },
  {
   "cell_type": "markdown",
   "metadata": {},
   "source": [
    "# 9"
   ]
  },
  {
   "cell_type": "code",
   "execution_count": 115,
   "metadata": {
    "collapsed": false
   },
   "outputs": [
    {
     "data": {
      "text/html": [
       "<div>\n",
       "<table border=\"1\" class=\"dataframe\">\n",
       "  <thead>\n",
       "    <tr style=\"text-align: right;\">\n",
       "      <th></th>\n",
       "      <th>Private</th>\n",
       "      <th>Apps</th>\n",
       "      <th>Accept</th>\n",
       "      <th>Enroll</th>\n",
       "      <th>Top10perc</th>\n",
       "      <th>Top25perc</th>\n",
       "      <th>F.Undergrad</th>\n",
       "      <th>P.Undergrad</th>\n",
       "      <th>Outstate</th>\n",
       "      <th>Room.Board</th>\n",
       "      <th>Books</th>\n",
       "      <th>Personal</th>\n",
       "      <th>PhD</th>\n",
       "      <th>Terminal</th>\n",
       "      <th>S.F.Ratio</th>\n",
       "      <th>perc.alumni</th>\n",
       "      <th>Expend</th>\n",
       "      <th>Grad.Rate</th>\n",
       "    </tr>\n",
       "  </thead>\n",
       "  <tbody>\n",
       "    <tr>\n",
       "      <th>Abilene Christian University</th>\n",
       "      <td>Yes</td>\n",
       "      <td>1660</td>\n",
       "      <td>1232</td>\n",
       "      <td>721</td>\n",
       "      <td>23</td>\n",
       "      <td>52</td>\n",
       "      <td>2885</td>\n",
       "      <td>537</td>\n",
       "      <td>7440</td>\n",
       "      <td>3300</td>\n",
       "      <td>450</td>\n",
       "      <td>2200</td>\n",
       "      <td>70</td>\n",
       "      <td>78</td>\n",
       "      <td>18.1</td>\n",
       "      <td>12</td>\n",
       "      <td>7041</td>\n",
       "      <td>60</td>\n",
       "    </tr>\n",
       "    <tr>\n",
       "      <th>Adelphi University</th>\n",
       "      <td>Yes</td>\n",
       "      <td>2186</td>\n",
       "      <td>1924</td>\n",
       "      <td>512</td>\n",
       "      <td>16</td>\n",
       "      <td>29</td>\n",
       "      <td>2683</td>\n",
       "      <td>1227</td>\n",
       "      <td>12280</td>\n",
       "      <td>6450</td>\n",
       "      <td>750</td>\n",
       "      <td>1500</td>\n",
       "      <td>29</td>\n",
       "      <td>30</td>\n",
       "      <td>12.2</td>\n",
       "      <td>16</td>\n",
       "      <td>10527</td>\n",
       "      <td>56</td>\n",
       "    </tr>\n",
       "    <tr>\n",
       "      <th>Adrian College</th>\n",
       "      <td>Yes</td>\n",
       "      <td>1428</td>\n",
       "      <td>1097</td>\n",
       "      <td>336</td>\n",
       "      <td>22</td>\n",
       "      <td>50</td>\n",
       "      <td>1036</td>\n",
       "      <td>99</td>\n",
       "      <td>11250</td>\n",
       "      <td>3750</td>\n",
       "      <td>400</td>\n",
       "      <td>1165</td>\n",
       "      <td>53</td>\n",
       "      <td>66</td>\n",
       "      <td>12.9</td>\n",
       "      <td>30</td>\n",
       "      <td>8735</td>\n",
       "      <td>54</td>\n",
       "    </tr>\n",
       "    <tr>\n",
       "      <th>Agnes Scott College</th>\n",
       "      <td>Yes</td>\n",
       "      <td>417</td>\n",
       "      <td>349</td>\n",
       "      <td>137</td>\n",
       "      <td>60</td>\n",
       "      <td>89</td>\n",
       "      <td>510</td>\n",
       "      <td>63</td>\n",
       "      <td>12960</td>\n",
       "      <td>5450</td>\n",
       "      <td>450</td>\n",
       "      <td>875</td>\n",
       "      <td>92</td>\n",
       "      <td>97</td>\n",
       "      <td>7.7</td>\n",
       "      <td>37</td>\n",
       "      <td>19016</td>\n",
       "      <td>59</td>\n",
       "    </tr>\n",
       "    <tr>\n",
       "      <th>Alaska Pacific University</th>\n",
       "      <td>Yes</td>\n",
       "      <td>193</td>\n",
       "      <td>146</td>\n",
       "      <td>55</td>\n",
       "      <td>16</td>\n",
       "      <td>44</td>\n",
       "      <td>249</td>\n",
       "      <td>869</td>\n",
       "      <td>7560</td>\n",
       "      <td>4120</td>\n",
       "      <td>800</td>\n",
       "      <td>1500</td>\n",
       "      <td>76</td>\n",
       "      <td>72</td>\n",
       "      <td>11.9</td>\n",
       "      <td>2</td>\n",
       "      <td>10922</td>\n",
       "      <td>15</td>\n",
       "    </tr>\n",
       "  </tbody>\n",
       "</table>\n",
       "</div>"
      ],
      "text/plain": [
       "                             Private  Apps  Accept  Enroll  Top10perc  \\\n",
       "Abilene Christian University     Yes  1660    1232     721         23   \n",
       "Adelphi University               Yes  2186    1924     512         16   \n",
       "Adrian College                   Yes  1428    1097     336         22   \n",
       "Agnes Scott College              Yes   417     349     137         60   \n",
       "Alaska Pacific University        Yes   193     146      55         16   \n",
       "\n",
       "                              Top25perc  F.Undergrad  P.Undergrad  Outstate  \\\n",
       "Abilene Christian University         52         2885          537      7440   \n",
       "Adelphi University                   29         2683         1227     12280   \n",
       "Adrian College                       50         1036           99     11250   \n",
       "Agnes Scott College                  89          510           63     12960   \n",
       "Alaska Pacific University            44          249          869      7560   \n",
       "\n",
       "                              Room.Board  Books  Personal  PhD  Terminal  \\\n",
       "Abilene Christian University        3300    450      2200   70        78   \n",
       "Adelphi University                  6450    750      1500   29        30   \n",
       "Adrian College                      3750    400      1165   53        66   \n",
       "Agnes Scott College                 5450    450       875   92        97   \n",
       "Alaska Pacific University           4120    800      1500   76        72   \n",
       "\n",
       "                              S.F.Ratio  perc.alumni  Expend  Grad.Rate  \n",
       "Abilene Christian University       18.1           12    7041         60  \n",
       "Adelphi University                 12.2           16   10527         56  \n",
       "Adrian College                     12.9           30    8735         54  \n",
       "Agnes Scott College                 7.7           37   19016         59  \n",
       "Alaska Pacific University          11.9            2   10922         15  "
      ]
     },
     "execution_count": 115,
     "metadata": {},
     "output_type": "execute_result"
    }
   ],
   "source": [
    "college_file_path = '../data/College.csv'\n",
    "colleges = pd.read_csv(college_file_path, index_col=0)\n",
    "colleges.head()"
   ]
  },
  {
   "cell_type": "markdown",
   "metadata": {},
   "source": [
    "## 9(a)"
   ]
  },
  {
   "cell_type": "code",
   "execution_count": 118,
   "metadata": {
    "collapsed": false
   },
   "outputs": [
    {
     "data": {
      "text/html": [
       "<div>\n",
       "<table border=\"1\" class=\"dataframe\">\n",
       "  <thead>\n",
       "    <tr style=\"text-align: right;\">\n",
       "      <th></th>\n",
       "      <th>Private</th>\n",
       "      <th>Apps</th>\n",
       "      <th>Accept</th>\n",
       "      <th>Enroll</th>\n",
       "      <th>Top10perc</th>\n",
       "      <th>Top25perc</th>\n",
       "      <th>F.Undergrad</th>\n",
       "      <th>P.Undergrad</th>\n",
       "      <th>Outstate</th>\n",
       "      <th>Room.Board</th>\n",
       "      <th>Books</th>\n",
       "      <th>Personal</th>\n",
       "      <th>PhD</th>\n",
       "      <th>Terminal</th>\n",
       "      <th>S.F.Ratio</th>\n",
       "      <th>perc.alumni</th>\n",
       "      <th>Expend</th>\n",
       "      <th>Grad.Rate</th>\n",
       "    </tr>\n",
       "  </thead>\n",
       "  <tbody>\n",
       "    <tr>\n",
       "      <th>Abilene Christian University</th>\n",
       "      <td>1</td>\n",
       "      <td>1660</td>\n",
       "      <td>1232</td>\n",
       "      <td>721</td>\n",
       "      <td>23</td>\n",
       "      <td>52</td>\n",
       "      <td>2885</td>\n",
       "      <td>537</td>\n",
       "      <td>7440</td>\n",
       "      <td>3300</td>\n",
       "      <td>450</td>\n",
       "      <td>2200</td>\n",
       "      <td>70</td>\n",
       "      <td>78</td>\n",
       "      <td>18.1</td>\n",
       "      <td>12</td>\n",
       "      <td>7041</td>\n",
       "      <td>60</td>\n",
       "    </tr>\n",
       "    <tr>\n",
       "      <th>Adelphi University</th>\n",
       "      <td>1</td>\n",
       "      <td>2186</td>\n",
       "      <td>1924</td>\n",
       "      <td>512</td>\n",
       "      <td>16</td>\n",
       "      <td>29</td>\n",
       "      <td>2683</td>\n",
       "      <td>1227</td>\n",
       "      <td>12280</td>\n",
       "      <td>6450</td>\n",
       "      <td>750</td>\n",
       "      <td>1500</td>\n",
       "      <td>29</td>\n",
       "      <td>30</td>\n",
       "      <td>12.2</td>\n",
       "      <td>16</td>\n",
       "      <td>10527</td>\n",
       "      <td>56</td>\n",
       "    </tr>\n",
       "    <tr>\n",
       "      <th>Adrian College</th>\n",
       "      <td>1</td>\n",
       "      <td>1428</td>\n",
       "      <td>1097</td>\n",
       "      <td>336</td>\n",
       "      <td>22</td>\n",
       "      <td>50</td>\n",
       "      <td>1036</td>\n",
       "      <td>99</td>\n",
       "      <td>11250</td>\n",
       "      <td>3750</td>\n",
       "      <td>400</td>\n",
       "      <td>1165</td>\n",
       "      <td>53</td>\n",
       "      <td>66</td>\n",
       "      <td>12.9</td>\n",
       "      <td>30</td>\n",
       "      <td>8735</td>\n",
       "      <td>54</td>\n",
       "    </tr>\n",
       "    <tr>\n",
       "      <th>Agnes Scott College</th>\n",
       "      <td>1</td>\n",
       "      <td>417</td>\n",
       "      <td>349</td>\n",
       "      <td>137</td>\n",
       "      <td>60</td>\n",
       "      <td>89</td>\n",
       "      <td>510</td>\n",
       "      <td>63</td>\n",
       "      <td>12960</td>\n",
       "      <td>5450</td>\n",
       "      <td>450</td>\n",
       "      <td>875</td>\n",
       "      <td>92</td>\n",
       "      <td>97</td>\n",
       "      <td>7.7</td>\n",
       "      <td>37</td>\n",
       "      <td>19016</td>\n",
       "      <td>59</td>\n",
       "    </tr>\n",
       "    <tr>\n",
       "      <th>Alaska Pacific University</th>\n",
       "      <td>1</td>\n",
       "      <td>193</td>\n",
       "      <td>146</td>\n",
       "      <td>55</td>\n",
       "      <td>16</td>\n",
       "      <td>44</td>\n",
       "      <td>249</td>\n",
       "      <td>869</td>\n",
       "      <td>7560</td>\n",
       "      <td>4120</td>\n",
       "      <td>800</td>\n",
       "      <td>1500</td>\n",
       "      <td>76</td>\n",
       "      <td>72</td>\n",
       "      <td>11.9</td>\n",
       "      <td>2</td>\n",
       "      <td>10922</td>\n",
       "      <td>15</td>\n",
       "    </tr>\n",
       "  </tbody>\n",
       "</table>\n",
       "</div>"
      ],
      "text/plain": [
       "                              Private  Apps  Accept  Enroll  Top10perc  \\\n",
       "Abilene Christian University        1  1660    1232     721         23   \n",
       "Adelphi University                  1  2186    1924     512         16   \n",
       "Adrian College                      1  1428    1097     336         22   \n",
       "Agnes Scott College                 1   417     349     137         60   \n",
       "Alaska Pacific University           1   193     146      55         16   \n",
       "\n",
       "                              Top25perc  F.Undergrad  P.Undergrad  Outstate  \\\n",
       "Abilene Christian University         52         2885          537      7440   \n",
       "Adelphi University                   29         2683         1227     12280   \n",
       "Adrian College                       50         1036           99     11250   \n",
       "Agnes Scott College                  89          510           63     12960   \n",
       "Alaska Pacific University            44          249          869      7560   \n",
       "\n",
       "                              Room.Board  Books  Personal  PhD  Terminal  \\\n",
       "Abilene Christian University        3300    450      2200   70        78   \n",
       "Adelphi University                  6450    750      1500   29        30   \n",
       "Adrian College                      3750    400      1165   53        66   \n",
       "Agnes Scott College                 5450    450       875   92        97   \n",
       "Alaska Pacific University           4120    800      1500   76        72   \n",
       "\n",
       "                              S.F.Ratio  perc.alumni  Expend  Grad.Rate  \n",
       "Abilene Christian University       18.1           12    7041         60  \n",
       "Adelphi University                 12.2           16   10527         56  \n",
       "Adrian College                     12.9           30    8735         54  \n",
       "Agnes Scott College                 7.7           37   19016         59  \n",
       "Alaska Pacific University          11.9            2   10922         15  "
      ]
     },
     "execution_count": 118,
     "metadata": {},
     "output_type": "execute_result"
    }
   ],
   "source": [
    "from sklearn.model_selection import train_test_split\n",
    "colleges=colleges.replace(['Yes','No'],[1,-1])\n",
    "colleges.head()"
   ]
  },
  {
   "cell_type": "code",
   "execution_count": 119,
   "metadata": {
    "collapsed": false
   },
   "outputs": [
    {
     "data": {
      "text/plain": [
       "Index(['Private', 'Apps', 'Accept', 'Enroll', 'Top10perc', 'Top25perc',\n",
       "       'F.Undergrad', 'P.Undergrad', 'Outstate', 'Room.Board', 'Books',\n",
       "       'Personal', 'PhD', 'Terminal', 'S.F.Ratio', 'perc.alumni', 'Expend',\n",
       "       'Grad.Rate'],\n",
       "      dtype='object')"
      ]
     },
     "execution_count": 119,
     "metadata": {},
     "output_type": "execute_result"
    }
   ],
   "source": [
    "colleges.columns"
   ]
  },
  {
   "cell_type": "code",
   "execution_count": 121,
   "metadata": {
    "collapsed": true
   },
   "outputs": [],
   "source": [
    "X = colleges[['Private', 'Accept', 'Enroll', 'Top10perc', 'Top25perc',\n",
    "              'F.Undergrad', 'P.Undergrad', 'Outstate', 'Room.Board', 'Books',\n",
    "              'Personal', 'PhD', 'Terminal', 'S.F.Ratio', 'perc.alumni', 'Expend',\n",
    "              'Grad.Rate']].values\n",
    "y = colleges['Apps'].values\n",
    "X_train, X_test, y_train, y_test = train_test_split(X,y, test_size=0.4, random_state=0)"
   ]
  },
  {
   "cell_type": "markdown",
   "metadata": {},
   "source": [
    "## 9(b)"
   ]
  },
  {
   "cell_type": "code",
   "execution_count": 122,
   "metadata": {
    "collapsed": false
   },
   "outputs": [
    {
     "name": "stdout",
     "output_type": "stream",
     "text": [
      "1440756.65034\n"
     ]
    }
   ],
   "source": [
    "from sklearn.linear_model import LinearRegression\n",
    "lr = LinearRegression()\n",
    "lr.fit(X_train, y_train)\n",
    "pred = lr.predict(X_test)\n",
    "residual = pred - y_test\n",
    "print(np.sum(residual**2)/residual.shape[0])"
   ]
  },
  {
   "cell_type": "markdown",
   "metadata": {},
   "source": [
    "## 9(c)"
   ]
  },
  {
   "cell_type": "code",
   "execution_count": 131,
   "metadata": {
    "collapsed": false
   },
   "outputs": [
    {
     "data": {
      "image/png": "[encoded data removed]",
      "text/plain": [
       "<matplotlib.figure.Figure at 0x10f989e48>"
      ]
     },
     "metadata": {},
     "output_type": "display_data"
    }
   ],
   "source": [
    "from sklearn import linear_model\n",
    "alphas = [1, 5, 10,50,100,500,1000,5000,10000,50000]\n",
    "mses = []\n",
    "for alpha in alphas:\n",
    "    reg = linear_model.Ridge(alpha=alpha)\n",
    "    reg.fit(X_train, y_train)\n",
    "    residual = reg.predict(X_test) - y_test\n",
    "    mses.append(np.sum(residual*residual)/residual.shape[0])\n",
    "x = range(1,11,1)\n",
    "plt.plot(x, mses)\n",
    "plt.xticks(x,alphas)\n",
    "plt.show()"
   ]
  },
  {
   "cell_type": "code",
   "execution_count": 132,
   "metadata": {
    "collapsed": false
   },
   "outputs": [
    {
     "name": "stdout",
     "output_type": "stream",
     "text": [
      "[ -9.92021819e+00   1.24910340e+00  -2.76348702e-01   4.38145767e+01\n",
      "  -1.17827415e+01   1.12508238e-01   4.47224846e-02  -6.64293603e-02\n",
      "   1.93821725e-01  -5.52349566e-02  -2.89435131e-02  -4.41754286e+00\n",
      "  -5.17170590e+00   6.59267719e+00  -6.25867435e+00   7.26582050e-02\n",
      "   1.01440765e+01] -982.061064919\n"
     ]
    }
   ],
   "source": [
    "reg = linear_model.Ridge(alpha=5000)\n",
    "reg.fit(X_train, y_train)\n",
    "print(reg.coef_, reg.intercept_)"
   ]
  },
  {
   "cell_type": "markdown",
   "metadata": {},
   "source": [
    "## 9(d)"
   ]
  },
  {
   "cell_type": "code",
   "execution_count": 133,
   "metadata": {
    "collapsed": false
   },
   "outputs": [
    {
     "data": {
      "image/png": "[encoded data removed]",
      "text/plain": [
       "<matplotlib.figure.Figure at 0x10e846ba8>"
      ]
     },
     "metadata": {},
     "output_type": "display_data"
    }
   ],
   "source": [
    "alphas = [1, 5, 10,50,100,500,1000,5000,10000,50000]\n",
    "mses = []\n",
    "for alpha in alphas:\n",
    "    reg = linear_model.Lasso(alpha=alpha)\n",
    "    reg.fit(X_train, y_train)\n",
    "    residual = reg.predict(X_test) - y_test\n",
    "    mses.append(np.sum(residual*residual)/residual.shape[0])\n",
    "x = range(1,11,1)\n",
    "plt.plot(x, mses)\n",
    "plt.xticks(x,alphas)\n",
    "plt.show()"
   ]
  },
  {
   "cell_type": "code",
   "execution_count": 134,
   "metadata": {
    "collapsed": false
   },
   "outputs": [
    {
     "name": "stdout",
     "output_type": "stream",
     "text": [
      "[ -0.00000000e+00   1.25962483e+00  -2.44959925e-01   3.81893082e+01\n",
      "  -6.84297725e+00   1.02636531e-01   3.73884906e-02  -7.54237016e-02\n",
      "   1.97375911e-01  -3.36698770e-02  -2.38436242e-02  -2.95636819e+00\n",
      "  -3.55491103e+00   0.00000000e+00  -1.90595131e-01   6.92584659e-02\n",
      "   6.10645693e+00] -1031.20569263\n"
     ]
    }
   ],
   "source": [
    "reg = linear_model.Lasso(alpha=500)\n",
    "reg.fit(X_train, y_train)\n",
    "print(reg.coef_,reg.intercept_)"
   ]
  },
  {
   "cell_type": "markdown",
   "metadata": {},
   "source": [
    "## 9(e)"
   ]
  },
  {
   "cell_type": "code",
   "execution_count": 136,
   "metadata": {
    "collapsed": false
   },
   "outputs": [
    {
     "data": {
      "image/png": "[encoded data removed]",
      "text/plain": [
       "<matplotlib.figure.Figure at 0x10de120b8>"
      ]
     },
     "metadata": {},
     "output_type": "display_data"
    }
   ],
   "source": [
    "from sklearn.decomposition import PCA\n",
    "Ms = range(1,18)\n",
    "mses = []\n",
    "for m in Ms:\n",
    "    pca = PCA(n_components=m)\n",
    "    pca.fit(X_train)\n",
    "    X_train_trans = pca.transform(X_train)\n",
    "    lr = LinearRegression()\n",
    "    lr.fit(X_train_trans, y_train)\n",
    "    X_test_trans = pca.transform(X_test)\n",
    "    residual = lr.predict(X_test_trans) - y_test\n",
    "    mses.append(np.sum(residual*residual)/residual.shape[0])\n",
    "plt.plot(Ms, mses)\n",
    "plt.show()"
   ]
  },
  {
   "cell_type": "markdown",
   "metadata": {},
   "source": [
    "## 9(f)"
   ]
  },
  {
   "cell_type": "code",
   "execution_count": 137,
   "metadata": {
    "collapsed": false
   },
   "outputs": [
    {
     "data": {
      "image/png": "[encoded data removed]",
      "text/plain": [
       "<matplotlib.figure.Figure at 0x10e270978>"
      ]
     },
     "metadata": {},
     "output_type": "display_data"
    }
   ],
   "source": [
    "from sklearn.cross_decomposition import PLSRegression\n",
    "Ms = range(1,18)\n",
    "mses = []\n",
    "for m in Ms:\n",
    "    pls = PLSRegression(n_components=m)\n",
    "    pls.fit(X_train, y_train)\n",
    "    residual = pls.predict(X_test) - y_test\n",
    "    mses.append(np.sum(residual*residual)/residual.shape[0])\n",
    "plt.plot(Ms, mses)\n",
    "plt.show()"
   ]
  },
  {
   "cell_type": "markdown",
   "metadata": {},
   "source": [
    "# 10\n",
    "## 10(a)"
   ]
  },
  {
   "cell_type": "code",
   "execution_count": 152,
   "metadata": {
    "collapsed": false
   },
   "outputs": [],
   "source": [
    "X = np.random.randint(1,high=200, size=(1000,20))\n",
    "beta = np.random.randn(20,1)\n",
    "beta[2] = 0.0\n",
    "beta[3] = 0.0\n",
    "beta[8] = 0.0\n",
    "beta[18] = 0.0\n",
    "beta[9] = 0.0\n",
    "epsilon = np.random.normal(0,1,1000).reshape((1000,1))\n",
    "y = X.dot(beta)+epsilon"
   ]
  },
  {
   "cell_type": "markdown",
   "metadata": {},
   "source": [
    "## 10(b)"
   ]
  },
  {
   "cell_type": "code",
   "execution_count": 153,
   "metadata": {
    "collapsed": true
   },
   "outputs": [],
   "source": [
    "X_train, X_test, y_train, y_test = train_test_split(X, y, test_size=0.1)"
   ]
  },
  {
   "cell_type": "markdown",
   "metadata": {},
   "source": [
    "## 10(c)"
   ]
  },
  {
   "cell_type": "code",
   "execution_count": 164,
   "metadata": {
    "collapsed": false
   },
   "outputs": [
    {
     "name": "stderr",
     "output_type": "stream",
     "text": [
      "/Users/gaufung/anaconda/lib/python3.6/site-packages/sklearn/utils/validation.py:526: DataConversionWarning: A column-vector y was passed when a 1d array was expected. Please change the shape of y to (n_samples, ), for example using ravel().\n",
      "  y = column_or_1d(y, warn=True)\n"
     ]
    },
    {
     "data": {
      "image/png": "[encoded data removed]",
      "text/plain": [
       "<matplotlib.figure.Figure at 0x10e6a90b8>"
      ]
     },
     "metadata": {},
     "output_type": "display_data"
    }
   ],
   "source": [
    "from sklearn.feature_selection import SelectKBest, f_regression\n",
    "#X_new = SelectKBest(f_regression, k=2).fit_transform(X_train,y_train)\n",
    "ms = range(1,21)\n",
    "mses = []\n",
    "for m in ms:\n",
    "    selector = SelectKBest(f_regression, k=m)\n",
    "    selector.fit(X_train,y_train)\n",
    "    X_new = selector.transform(X_train)\n",
    "    lr = LinearRegression()\n",
    "    lr.fit(X_new, y_train)\n",
    "    residual = lr.predict(X_new) - y_train\n",
    "    mses.append(np.sum(residual*residual)/residual.shape[0])\n",
    "plt.plot(ms, mses)\n",
    "plt.show()"
   ]
  },
  {
   "cell_type": "markdown",
   "metadata": {},
   "source": [
    "## 10(d)"
   ]
  },
  {
   "cell_type": "code",
   "execution_count": 165,
   "metadata": {
    "collapsed": false
   },
   "outputs": [
    {
     "name": "stderr",
     "output_type": "stream",
     "text": [
      "/Users/gaufung/anaconda/lib/python3.6/site-packages/sklearn/utils/validation.py:526: DataConversionWarning: A column-vector y was passed when a 1d array was expected. Please change the shape of y to (n_samples, ), for example using ravel().\n",
      "  y = column_or_1d(y, warn=True)\n"
     ]
    },
    {
     "data": {
      "image/png": "[encoded data removed]",
      "text/plain": [
       "<matplotlib.figure.Figure at 0x10ddfc550>"
      ]
     },
     "metadata": {},
     "output_type": "display_data"
    }
   ],
   "source": [
    "ms = range(1,21)\n",
    "mses = []\n",
    "for m in ms:\n",
    "    selector = SelectKBest(f_regression, k=m)\n",
    "    selector.fit(X_train,y_train)\n",
    "    X_new = selector.transform(X_train)\n",
    "    lr = LinearRegression()\n",
    "    lr.fit(X_new, y_train)\n",
    "    X_test_new = selector.transform(X_test)\n",
    "    residual = lr.predict(X_test_new) - y_test\n",
    "    mses.append(np.sum(residual*residual)/residual.shape[0])\n",
    "plt.plot(ms, mses)\n",
    "plt.show()"
   ]
  },
  {
   "cell_type": "markdown",
   "metadata": {},
   "source": [
    "## 10(f)"
   ]
  },
  {
   "cell_type": "code",
   "execution_count": 166,
   "metadata": {
    "collapsed": false
   },
   "outputs": [
    {
     "name": "stdout",
     "output_type": "stream",
     "text": [
      "[40513.537713952188, 27600.678196853009, 14093.901572414637, 11892.36682445843, 7297.487709617988, 4433.7833899441703, 2752.8550230134492, 2675.9504545136851, 1727.2656914288339, 1046.0674814643901, 341.49444662243178, 235.64687886519044, 131.36481395884778, 131.37397699313757, 128.25638497581457, 129.06162182711472, 129.17776928107406, 1.0532445874667618, 1.0636700530274779, 1.071326570875653]\n"
     ]
    }
   ],
   "source": [
    "print(mses)"
   ]
  },
  {
   "cell_type": "markdown",
   "metadata": {},
   "source": [
    "when $m=18$, it has lowest test mse, that is 1.0532445."
   ]
  },
  {
   "cell_type": "markdown",
   "metadata": {},
   "source": [
    "# 11"
   ]
  },
  {
   "cell_type": "code",
   "execution_count": 2,
   "metadata": {
    "collapsed": false
   },
   "outputs": [
    {
     "data": {
      "text/html": [
       "<div>\n",
       "<table border=\"1\" class=\"dataframe\">\n",
       "  <thead>\n",
       "    <tr style=\"text-align: right;\">\n",
       "      <th></th>\n",
       "      <th>crim</th>\n",
       "      <th>zn</th>\n",
       "      <th>indus</th>\n",
       "      <th>chas</th>\n",
       "      <th>nox</th>\n",
       "      <th>rm</th>\n",
       "      <th>age</th>\n",
       "      <th>dis</th>\n",
       "      <th>rad</th>\n",
       "      <th>tax</th>\n",
       "      <th>ptratio</th>\n",
       "      <th>black</th>\n",
       "      <th>lstat</th>\n",
       "      <th>medv</th>\n",
       "    </tr>\n",
       "  </thead>\n",
       "  <tbody>\n",
       "    <tr>\n",
       "      <th>1</th>\n",
       "      <td>0.00632</td>\n",
       "      <td>18.0</td>\n",
       "      <td>2.31</td>\n",
       "      <td>0</td>\n",
       "      <td>0.538</td>\n",
       "      <td>6.575</td>\n",
       "      <td>65.2</td>\n",
       "      <td>4.0900</td>\n",
       "      <td>1</td>\n",
       "      <td>296</td>\n",
       "      <td>15.3</td>\n",
       "      <td>396.90</td>\n",
       "      <td>4.98</td>\n",
       "      <td>24.0</td>\n",
       "    </tr>\n",
       "    <tr>\n",
       "      <th>2</th>\n",
       "      <td>0.02731</td>\n",
       "      <td>0.0</td>\n",
       "      <td>7.07</td>\n",
       "      <td>0</td>\n",
       "      <td>0.469</td>\n",
       "      <td>6.421</td>\n",
       "      <td>78.9</td>\n",
       "      <td>4.9671</td>\n",
       "      <td>2</td>\n",
       "      <td>242</td>\n",
       "      <td>17.8</td>\n",
       "      <td>396.90</td>\n",
       "      <td>9.14</td>\n",
       "      <td>21.6</td>\n",
       "    </tr>\n",
       "    <tr>\n",
       "      <th>3</th>\n",
       "      <td>0.02729</td>\n",
       "      <td>0.0</td>\n",
       "      <td>7.07</td>\n",
       "      <td>0</td>\n",
       "      <td>0.469</td>\n",
       "      <td>7.185</td>\n",
       "      <td>61.1</td>\n",
       "      <td>4.9671</td>\n",
       "      <td>2</td>\n",
       "      <td>242</td>\n",
       "      <td>17.8</td>\n",
       "      <td>392.83</td>\n",
       "      <td>4.03</td>\n",
       "      <td>34.7</td>\n",
       "    </tr>\n",
       "    <tr>\n",
       "      <th>4</th>\n",
       "      <td>0.03237</td>\n",
       "      <td>0.0</td>\n",
       "      <td>2.18</td>\n",
       "      <td>0</td>\n",
       "      <td>0.458</td>\n",
       "      <td>6.998</td>\n",
       "      <td>45.8</td>\n",
       "      <td>6.0622</td>\n",
       "      <td>3</td>\n",
       "      <td>222</td>\n",
       "      <td>18.7</td>\n",
       "      <td>394.63</td>\n",
       "      <td>2.94</td>\n",
       "      <td>33.4</td>\n",
       "    </tr>\n",
       "    <tr>\n",
       "      <th>5</th>\n",
       "      <td>0.06905</td>\n",
       "      <td>0.0</td>\n",
       "      <td>2.18</td>\n",
       "      <td>0</td>\n",
       "      <td>0.458</td>\n",
       "      <td>7.147</td>\n",
       "      <td>54.2</td>\n",
       "      <td>6.0622</td>\n",
       "      <td>3</td>\n",
       "      <td>222</td>\n",
       "      <td>18.7</td>\n",
       "      <td>396.90</td>\n",
       "      <td>5.33</td>\n",
       "      <td>36.2</td>\n",
       "    </tr>\n",
       "  </tbody>\n",
       "</table>\n",
       "</div>"
      ],
      "text/plain": [
       "      crim    zn  indus  chas    nox     rm   age     dis  rad  tax  ptratio  \\\n",
       "1  0.00632  18.0   2.31     0  0.538  6.575  65.2  4.0900    1  296     15.3   \n",
       "2  0.02731   0.0   7.07     0  0.469  6.421  78.9  4.9671    2  242     17.8   \n",
       "3  0.02729   0.0   7.07     0  0.469  7.185  61.1  4.9671    2  242     17.8   \n",
       "4  0.03237   0.0   2.18     0  0.458  6.998  45.8  6.0622    3  222     18.7   \n",
       "5  0.06905   0.0   2.18     0  0.458  7.147  54.2  6.0622    3  222     18.7   \n",
       "\n",
       "    black  lstat  medv  \n",
       "1  396.90   4.98  24.0  \n",
       "2  396.90   9.14  21.6  \n",
       "3  392.83   4.03  34.7  \n",
       "4  394.63   2.94  33.4  \n",
       "5  396.90   5.33  36.2  "
      ]
     },
     "execution_count": 2,
     "metadata": {},
     "output_type": "execute_result"
    }
   ],
   "source": [
    "boston_file_path = '../data/Boston.csv'\n",
    "bostons = pd.read_csv(boston_file_path, index_col=0)\n",
    "bostons.head()"
   ]
  },
  {
   "cell_type": "markdown",
   "metadata": {},
   "source": [
    "## 11(a)"
   ]
  },
  {
   "cell_type": "code",
   "execution_count": 3,
   "metadata": {
    "collapsed": false
   },
   "outputs": [
    {
     "data": {
      "text/plain": [
       "Index(['crim', 'zn', 'indus', 'chas', 'nox', 'rm', 'age', 'dis', 'rad', 'tax',\n",
       "       'ptratio', 'black', 'lstat', 'medv'],\n",
       "      dtype='object')"
      ]
     },
     "execution_count": 3,
     "metadata": {},
     "output_type": "execute_result"
    }
   ],
   "source": [
    "bostons.columns"
   ]
  },
  {
   "cell_type": "code",
   "execution_count": 4,
   "metadata": {
    "collapsed": true
   },
   "outputs": [],
   "source": [
    "X = bostons[['zn', 'indus', 'chas', 'nox', 'rm', 'age', 'dis', 'rad', 'tax',\n",
    "       'ptratio', 'black', 'lstat', 'medv']].values\n",
    "y = bostons['crim'].values"
   ]
  },
  {
   "cell_type": "code",
   "execution_count": 8,
   "metadata": {
    "collapsed": false
   },
   "outputs": [
    {
     "data": {
      "image/png": "[encoded data removed]",
      "text/plain": [
       "<matplotlib.figure.Figure at 0x11e1f7b38>"
      ]
     },
     "metadata": {},
     "output_type": "display_data"
    }
   ],
   "source": [
    "from sklearn.feature_selection import SelectKBest,f_regression\n",
    "from sklearn.linear_model import LinearRegression\n",
    "# select best subsets\n",
    "ms = range(1,14)\n",
    "mses = []\n",
    "for m in ms:\n",
    "    selector = SelectKBest(f_regression, k=m)\n",
    "    selector.fit(X,y)\n",
    "    X_new = selector.transform(X)\n",
    "    lr = LinearRegression()\n",
    "    lr.fit(X_new, y)\n",
    "    residual = lr.predict(X_new) - y\n",
    "    mses.append(np.sum(residual*residual)/residual.shape[0])\n",
    "plt.plot(ms, mses)\n",
    "plt.show()"
   ]
  },
  {
   "cell_type": "code",
   "execution_count": 173,
   "metadata": {
    "collapsed": false
   },
   "outputs": [
    {
     "data": {
      "image/png": "[encoded data removed]",
      "text/plain": [
       "<matplotlib.figure.Figure at 0x10f5380b8>"
      ]
     },
     "metadata": {},
     "output_type": "display_data"
    }
   ],
   "source": [
    "# Lasso\n",
    "lambdas = [0.0001, 0.001, 0.005, 0.01, 0.05, 0.1, 0.2,0.4,0.5,0.8,1]\n",
    "mse_scores = []\n",
    "for lam in lambdas:\n",
    "    clf = linear_model.Lasso(alpha=lam)\n",
    "    clf.fit(X, y)\n",
    "    pred = clf.predict(X)\n",
    "    residuals = y - pred\n",
    "    mse_scores.append(np.sum(residuals**2)/residuals.shape[0])\n",
    "x_coord = range(1, 12,1)\n",
    "plt.plot(x_coord, mse_scores)\n",
    "plt.xticks(x_coord, lambdas)\n",
    "plt.xlabel(r'$\\lambda$')\n",
    "plt.ylabel('MES')\n",
    "plt.show()"
   ]
  },
  {
   "cell_type": "code",
   "execution_count": 180,
   "metadata": {
    "collapsed": false
   },
   "outputs": [
    {
     "data": {
      "image/png": "[encoded data removed]",
      "text/plain": [
       "<matplotlib.figure.Figure at 0x10ddaa080>"
      ]
     },
     "metadata": {},
     "output_type": "display_data"
    }
   ],
   "source": [
    "# Ridge\n",
    "alphas = [0.000001,1, 5, 10,50,100,500,1000,5000,10000,50000]\n",
    "mses = []\n",
    "for alpha in alphas:\n",
    "    reg = linear_model.Ridge(alpha=alpha)\n",
    "    reg.fit(X, y)\n",
    "    residual = reg.predict(X) - y\n",
    "    mses.append(np.sum(residual*residual)/residual.shape[0])\n",
    "x = range(1,12,1)\n",
    "plt.plot(x, mses)\n",
    "plt.xticks(x,alphas)\n",
    "plt.show()"
   ]
  },
  {
   "cell_type": "code",
   "execution_count": 181,
   "metadata": {
    "collapsed": false
   },
   "outputs": [
    {
     "data": {
      "image/png": "[encoded data removed]",
      "text/plain": [
       "<matplotlib.figure.Figure at 0x10ee70f98>"
      ]
     },
     "metadata": {},
     "output_type": "display_data"
    }
   ],
   "source": [
    "# PCR\n",
    "from sklearn.decomposition import PCA\n",
    "Ms = range(1,14)\n",
    "mses = []\n",
    "for m in Ms:\n",
    "    pca = PCA(n_components=m)\n",
    "    pca.fit(X)\n",
    "    X_train_trans = pca.transform(X)\n",
    "    lr = LinearRegression()\n",
    "    lr.fit(X_train_trans, y)\n",
    "    X_test_trans = pca.transform(X)\n",
    "    residual = lr.predict(X_test_trans) - y\n",
    "    mses.append(np.sum(residual*residual)/residual.shape[0])\n",
    "plt.plot(Ms, mses)\n",
    "plt.show()"
   ]
  },
  {
   "cell_type": "code",
   "execution_count": null,
   "metadata": {
    "collapsed": true
   },
   "outputs": [],
   "source": []
  }
 ],
 "metadata": {
  "kernelspec": {
   "display_name": "Python 3",
   "language": "python",
   "name": "python3"
  },
  "language_info": {
   "codemirror_mode": {
    "name": "ipython",
    "version": 3
   },
   "file_extension": ".py",
   "mimetype": "text/x-python",
   "name": "python",
   "nbconvert_exporter": "python",
   "pygments_lexer": "ipython3",
   "version": "3.6.0"
  }
 },
 "nbformat": 4,
 "nbformat_minor": 2
}
