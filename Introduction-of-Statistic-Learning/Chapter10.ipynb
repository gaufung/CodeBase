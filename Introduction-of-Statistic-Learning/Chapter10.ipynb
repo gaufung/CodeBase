{
 "cells": [
  {
   "cell_type": "markdown",
   "metadata": {},
   "source": [
    "**Chapter 10**  \n",
    "Unsupervised Learning"
   ]
  },
  {
   "cell_type": "markdown",
   "metadata": {},
   "source": [
    "# 1 Principal Component Analysis\n",
    "Principal compnents allow us to summarize this set of correlated variables with a smaller number of the respresentative variables that collectively explain most of the variablity in the original set\n",
    "## 1.1 what are Principal Components\n",
    "It finds a low-dimensional representation of a data set that contains as much as possible of the variation. The *first principal component* of a set of features $X_1,X_2,...,X_p$ is the norimal linear combination of the featues\n",
    "$$\n",
    "Z_1= \\phi_{11}X_1+\\phi_{21}X_2+\\ldots+\\phi_{p1}X_p\n",
    "$$\n",
    "\n",
    "that has the largest variance. By *Normalized*, we mean that $\\sum_{j=1}^p\\phi_{j1}^2=1$\n",
    "In the other words, the first principal component loading vector solves the optimization problem\n",
    "$$\n",
    "\\underset{\\phi_{11},\\ldots,\\phi_{p1}}{maximize}\\big\\{ \\frac{1}{n} \\sum_{i=1}^{n}(\\sum_{j=1}^{p}\\phi_{j1}x_{ij})^2\\big\\}\n",
    "$$\n",
    "subject to\n",
    "$$\n",
    "\\sum_{j=1}^{p}\\phi_{j1}^2=1\n",
    "$$\n",
    "Problem can be solved via an eigen decoomposition."
   ]
  },
  {
   "cell_type": "markdown",
   "metadata": {},
   "source": [
    "## 1.2 More on PCA\n",
    "### 1.2.1 Scaling teh variables\n",
    "the variables should be centered to have mean zero. \n",
    "### 1.2.2 Uniquenness of the Principal Components\n",
    "Two different software package will yield the same principal component loading vectors.\n",
    "### 1.2.3 Deciding how many principal component to use\n",
    "Depend on how many interesting patterns are found."
   ]
  },
  {
   "cell_type": "markdown",
   "metadata": {},
   "source": [
    "# 2 Clustering Methods\n",
    "## 2.1 K-Means clustering\n",
    "## 2.2 hierarchical clustering"
   ]
  },
  {
   "cell_type": "code",
   "execution_count": null,
   "metadata": {
    "collapsed": true
   },
   "outputs": [],
   "source": []
  }
 ],
 "metadata": {
  "kernelspec": {
   "display_name": "Python 3",
   "language": "python",
   "name": "python3"
  },
  "language_info": {
   "codemirror_mode": {
    "name": "ipython",
    "version": 3
   },
   "file_extension": ".py",
   "mimetype": "text/x-python",
   "name": "python",
   "nbconvert_exporter": "python",
   "pygments_lexer": "ipython3",
   "version": "3.6.0"
  }
 },
 "nbformat": 4,
 "nbformat_minor": 2
}
