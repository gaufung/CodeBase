{
 "cells": [
  {
   "cell_type": "markdown",
   "metadata": {},
   "source": [
    "# Chapter 03"
   ]
  },
  {
   "cell_type": "markdown",
   "metadata": {},
   "source": [
    "## 1 Least Square Coefficient  Estimate\n",
    "$$\\hat{\\beta_1}=\\frac{\\sum_{i=1}^{n}(x_i-\\bar{x})(y_i-\\bar{y})}{\\sum_{i=1}^{n}(x_i-\\bar{x})^2}$$\n",
    "$$\\hat{\\beta_0}=\\bar{y}-\\hat{\\beta_1}\\bar{x}$$"
   ]
  },
  {
   "cell_type": "code",
   "execution_count": 35,
   "metadata": {
    "collapsed": false
   },
   "outputs": [
    {
     "data": {
      "image/png": "[encoded data removed]",
      "text/plain": [
       "<matplotlib.figure.Figure at 0x110fee9e8>"
      ]
     },
     "metadata": {},
     "output_type": "display_data"
    }
   ],
   "source": [
    "import numpy as np\n",
    "import pandas as pd\n",
    "import matplotlib.pyplot as plt\n",
    "%matplotlib inline\n",
    "def LSCE(x, y):\n",
    "    beta_1 = np.sum((x - np.mean(x))*(y-np.mean(y))) / np.sum((x-np.mean(x))*(x-np.mean(x)))\n",
    "    beta_0 = np.mean(y) - beta_1 * np.mean(x)\n",
    "    return beta_0, beta_1\n",
    "advertising = pd.read_csv('Advertising.csv',index_col=0)\n",
    "tv = advertising['TV']\n",
    "sales = advertising['Sales']\n",
    "beta_0, beta_1 = LSCE(tv,sales)\n",
    "x = np.linspace(-10,310,1000)\n",
    "y = beta_1 * x + beta_0\n",
    "plt.scatter(tv, sales, marker='+')\n",
    "plt.plot(x, y,c='k')\n",
    "plt.xlim(-10,310)\n",
    "plt.show()"
   ]
  },
  {
   "cell_type": "code",
   "execution_count": 45,
   "metadata": {
    "collapsed": false
   },
   "outputs": [
    {
     "data": {
      "image/png": "[encoded data removed]",
      "text/plain": [
       "<matplotlib.figure.Figure at 0x111bc5390>"
      ]
     },
     "metadata": {},
     "output_type": "display_data"
    }
   ],
   "source": [
    "beta_1 = 3\n",
    "beta_0 = 2\n",
    "random = np.random.normal(size=100, loc=0, scale=1)\n",
    "X = np.linspace(-2,2,500)\n",
    "X = np.random.choice(X, size=100, replace=False)\n",
    "Y = X*beta_1+beta_0 +random\n",
    "y_true = X*beta_1+beta_0\n",
    "beta_0_, beta_1_ = LSCE(X, Y)\n",
    "y_predict = X *beta_1_ + beta_0_\n",
    "plt.scatter(X,Y)\n",
    "plt.plot(X,y_true, c='g')\n",
    "plt.plot(X, y_predict, c='r')\n",
    "plt.show()"
   ]
  },
  {
   "cell_type": "markdown",
   "metadata": {},
   "source": [
    "The difference between the population regression line adn the least squres lien many seem quite confusing. The answer is using a sample to estimate the characteristics of a large population.  \n",
    "How accurate is the sample mean $\\hat{\\mu}$ as an estimate of $\\mu$\n",
    "$$\n",
    "Var(\\hat{\\mu}) = SE(\\hat{\\mu})^2=\\frac{\\sigma^2}{n}\n",
    "$$\n",
    "computing the standard errors associated with $\\hat{\\beta_0}$ and $\\hat{\\beta_1}$\n",
    "$$\n",
    "SE(\\hat{\\beta_0})^2 = \\sigma^2\\left[ \\frac{1}{n} + \\frac{\\bar{x}^2}{\\sum_{i=1}^n(x_i-\\bar{x})^2} \\right],\n",
    "SE(\\hat{\\beta_1})^2 = \\frac{\\sigma^2}{\\sum_{i=1}^{n}(x_i-\\bar{x})^2}\n",
    "$$\n",
    "where $\\sigma^2=Var(\\epsilon)$, $\\sigma$ is known as the *residual standard error*, and is given by the formula $RSE=\\sqrt{RSS/(n-2)}$"
   ]
  },
  {
   "cell_type": "markdown",
   "metadata": {},
   "source": [
    "## 1.1 Confidence intervals\n",
    "For linear regression, the $95\\%$ confidence interval for $\\beta_1$ and $\\beta_0$ approximately takes the form $$\\hat{\\beta_1}\\pm 2  SE(\\hat{\\beta_1}),\n",
    "\\hat{\\beta_0} \\pm 2 SE(\\hat{\\beta_0})\n",
    "$$"
   ]
  },
  {
   "cell_type": "markdown",
   "metadata": {},
   "source": [
    "## 1.2 Hypothesis\n",
    "The most common hypothesis test involves testing the *null hypothesis* of $$H_0: \\text{There is no relationship between}\\quad X \\text{and} Y$$\n",
    "versus the *alternative hypothesis*\n",
    "$$H_a: \\text{There is some relationship between }X \\text{and} Y$$\n",
    "We use *t-statistic* given by $$t= \\frac{\\hat{\\beta_1}-0}{SE(\\hat{\\beta_1})}$$\n",
    "we except that will have a $t$-distribution with $n-2$ degrees of freedom, asumming $\\beta_1=0$ we call this probability the $p-value$ . small $p-value$ indicates that it is unlikely to observe such a substantial association between the predictor and the response due to chance. The typical p-value cutoffs for rejecting the null hypothesis ares 5 or 1%"
   ]
  },
  {
   "cell_type": "markdown",
   "metadata": {},
   "source": [
    "## 1.3 Assessing the accuracy of the model\n",
    "Residual Standard Error(RSE)\n",
    "$$RSE=\\sqrt{\\frac{1}{n-2}RSS}=\\sqrt{\\frac{1}{n-2}\\sum_{i=1}^{n}(y-\\hat{y_i})^2}$$"
   ]
  },
  {
   "cell_type": "markdown",
   "metadata": {},
   "source": [
    "$R^2$ statistic provides an alternative measurs of fit. It takes the form of $proportion$, taking on a value between 0 and 1, and is independent of the scale of $Y$.\n",
    "$$R^2 = \\frac{TSS-RSS}{TSS}=1-\\frac{RSS}{TSS}$$ \n",
    "where $TSS=\\sum(y_i-\\bar{y})^2$ is the *total sum of squares*. Hence, $R^2$ measures the proportion of variability in Y that can be explained using X.\n",
    "\n",
    "Correlation\n",
    "$$\n",
    "Cor(X,Y)=\\frac{\\sum_{i=1}^n(x_i-\\bar{x})(y_i-\\bar{y})}{\\sqrt{\\sum_{i=1}^n(x_i-\\bar{x})^2}\\sqrt{\\sum_{i=1}^n(y_i-\\bar{y})^2}}\n",
    "$$\n",
    "Using $r=Cor(X,Y)$ instead of $R^2$ in order to assess the fit of the linear model."
   ]
  },
  {
   "cell_type": "markdown",
   "metadata": {},
   "source": [
    "# 2 Multiple linear regression\n",
    "Then the multiple linear regression model takes the form \n",
    "$$\n",
    "Y = \\beta_0 + \\beta_1X_1 + \\beta_2X_2+\\ldots+\\beta_pX_p+\\epsilon\n",
    "$$\n",
    "Given estimates $\\hat{\\beta_0},\\hat{\\beta_1},\\ldots,\\hat{\\beta_p}$, we can make predictions using the formula\n",
    "$$\n",
    "\\hat{y}=\\hat{\\beta_0}+\\hat{\\beta_1}x_1+\\ldots+\\hat{\\beta_p}x_p\n",
    "$$\n",
    "The sum of squared residuals\n",
    "$$\n",
    "RSS = \\sum_{i=1}^{n}(y_i-\\hat{y_i})^2\n",
    "$$\n",
    "We assume that:\n",
    "$$Sales=\\beta_0 + \\beta_1 \\times TV + \\beta_2 \\times Radio + \\beta_3 \\times Newspaper$$\n",
    "We reform the above formula\n",
    "$$\n",
    "\\begin{bmatrix}\n",
    "Sale_1 \\\\ Sale_2 \\\\ \\vdots \\\\ Sale_p\n",
    "\\end{bmatrix} =\n",
    "\\begin{bmatrix}\n",
    "tv_1 & radio_1 & newspaper_1 & 1 \\\\\n",
    "tv_2 & radio_2 & newspaper_2 & 1 \\\\\n",
    "\\vdots & \\vdots & \\vdots & \\vdots \\\\\n",
    "tv_p & radio_p & newpaper_p & 1 \\\\\n",
    "\\end{bmatrix} \\times\n",
    "\\begin{bmatrix}\n",
    "\\beta_1 \\\\ \\beta_2 \\\\ \\beta_3 \\\\ \\beta_0 \\\\\n",
    "\\end{bmatrix}\n",
    "$$\n",
    "Using LSE formula \n",
    "$$y=X\\beta \\rightarrow \\beta=(X^TX)^{-1}X^Ty$$"
   ]
  },
  {
   "cell_type": "code",
   "execution_count": 69,
   "metadata": {
    "collapsed": false
   },
   "outputs": [
    {
     "name": "stdout",
     "output_type": "stream",
     "text": [
      "the parameters are:  0.0457646454554 0.188530016918 -0.00103749304248 2.93888936946\n"
     ]
    }
   ],
   "source": [
    "# calculate the parameter\n",
    "from numpy.linalg import inv\n",
    "X = advertising[['TV','Radio','Newspaper']].values\n",
    "Y = advertising['Sales'].values\n",
    "X = np.hstack((X, np.full((len(Y),1), 1.0)))\n",
    "beta = inv(X.T.dot(X)).dot(X.T).dot(Y)\n",
    "print ('the parameters are: ',beta[0], beta[1], beta[2], beta[-1])"
   ]
  },
  {
   "cell_type": "code",
   "execution_count": 83,
   "metadata": {
    "collapsed": false
   },
   "outputs": [
    {
     "data": {
      "text/html": [
       "<div>\n",
       "<table border=\"1\" class=\"dataframe\">\n",
       "  <thead>\n",
       "    <tr style=\"text-align: right;\">\n",
       "      <th></th>\n",
       "      <th>TV</th>\n",
       "      <th>Radio</th>\n",
       "      <th>Newspaper</th>\n",
       "      <th>Sales</th>\n",
       "    </tr>\n",
       "  </thead>\n",
       "  <tbody>\n",
       "    <tr>\n",
       "      <th>TV</th>\n",
       "      <td>1.000000</td>\n",
       "      <td>0.054809</td>\n",
       "      <td>0.056648</td>\n",
       "      <td>0.782224</td>\n",
       "    </tr>\n",
       "    <tr>\n",
       "      <th>Radio</th>\n",
       "      <td>0.054809</td>\n",
       "      <td>1.000000</td>\n",
       "      <td>0.354104</td>\n",
       "      <td>0.576223</td>\n",
       "    </tr>\n",
       "    <tr>\n",
       "      <th>Newspaper</th>\n",
       "      <td>0.056648</td>\n",
       "      <td>0.354104</td>\n",
       "      <td>1.000000</td>\n",
       "      <td>0.228299</td>\n",
       "    </tr>\n",
       "    <tr>\n",
       "      <th>Sales</th>\n",
       "      <td>0.782224</td>\n",
       "      <td>0.576223</td>\n",
       "      <td>0.228299</td>\n",
       "      <td>1.000000</td>\n",
       "    </tr>\n",
       "  </tbody>\n",
       "</table>\n",
       "</div>"
      ],
      "text/plain": [
       "                 TV     Radio  Newspaper     Sales\n",
       "TV         1.000000  0.054809   0.056648  0.782224\n",
       "Radio      0.054809  1.000000   0.354104  0.576223\n",
       "Newspaper  0.056648  0.354104   1.000000  0.228299\n",
       "Sales      0.782224  0.576223   0.228299  1.000000"
      ]
     },
     "execution_count": 83,
     "metadata": {},
     "output_type": "execute_result"
    }
   ],
   "source": [
    "# calculate the correlation\n",
    "# X = advertising[['TV', 'Radio','Newspaper','Sales']].values\n",
    "# X_mean = np.mean(X,axis=0)\n",
    "# X -= X_mean\n",
    "# numerator =X.T.dot(X)\n",
    "# XX = X*X\n",
    "# XX = np.sum(XX, axis=0)\n",
    "# denumorator = np.sqrt((XX.T.dot(XX)))\n",
    "# numerator/denumorator\n",
    "advertising.corr()"
   ]
  },
  {
   "cell_type": "markdown",
   "metadata": {
    "collapsed": true
   },
   "source": [
    "## 2.1 Import Question\n",
    "+ Is at least one of the predictors $X_1,X_2,\\ldots,X_p$ useful in predicting the response\n",
    "+ Do all the predictors help to explain $Y$,, or is only a subset of the predcictor useful.\n",
    "+ How well does the model fit the data\n",
    "+ Given a set of predictor values, what response value should we predict, and how accurate is our prediction"
   ]
  },
  {
   "cell_type": "markdown",
   "metadata": {},
   "source": [
    "### 2.1.1 Is There a Relationship Between the Response and Predictors?\n",
    "+ null hypothesis\n",
    "$$H_0:\\beta_1=\\beta_2=\\ldots=\\beta_p=0$$\n",
    "\n",
    "+ alternative hypothesis\n",
    "$$H_a: \\text{at least one}\\quad \\beta_j \\quad\\text{is non-zero}$$\n",
    "**F-statisitc**\n",
    "$$F=\\frac{(TSS-RSS)/p}{RSS/(n-p-1)}$$\n",
    "\n",
    "If there is no relationshio between the response and predictors, that F-statistic takes on a value close to 1. On ther other hand, if $H_a$ is true, we except F to be greater than 1."
   ]
  },
  {
   "cell_type": "markdown",
   "metadata": {},
   "source": [
    "### 2.1.2 Deciding on important variables\n",
    "By trying out every possible combinations of variables\n",
    "\n",
    "+ Forward selection. \n",
    "+ backward selction.\n",
    "+ mixed selection."
   ]
  },
  {
   "cell_type": "markdown",
   "metadata": {},
   "source": [
    "### 2.1.3 Model Fit\n",
    "RSE and $R^2$ are the most common numerial measures of model fit. And $R^2$ value close to 1 indicates that the model explains a large portion of variance in the response variable."
   ]
  },
  {
   "cell_type": "markdown",
   "metadata": {},
   "source": [
    "### 2.1.4 Predictions\n",
    "The coefficient estimates $\\hat{\\beta_0},\\hat{\\beta_1},\\ldots,\\hat{\\beta_p}$ are estimates for $\\beta_0, \\beta_1,\\ldots,\\beta_p$. the inaccuracy in the coefficient estimate is related to the $reducibel error$, we can use confidence interval. So does $Y$."
   ]
  },
  {
   "cell_type": "markdown",
   "metadata": {},
   "source": [
    "## 3.4 Other Considerations\n",
    "### 3.4.1 Predicators with only two levels\n",
    "$$\n",
    "x_i=\n",
    "\\begin{cases}\n",
    "1 & \\text{if ith person is female} \\\\\n",
    "0 & \\text{if ith person is male} \\\\\n",
    "\\end{cases}\n",
    "$$\n",
    "Use this variable as the predictor in the regression equation\n",
    "$$\n",
    "y_i = \\beta_0+\\beta_1x_i+\\epsilon = \n",
    "\\begin{cases}\n",
    "\\beta_0+\\beta_1+\\epsilon & \\text{if ith person is female} \\\\\n",
    "\\beta_0 + \\epsilon & \\text{if ith person is male} \\\\\n",
    "\\end{cases}\n",
    "$$"
   ]
  },
  {
   "cell_type": "markdown",
   "metadata": {},
   "source": [
    "### 3.4.2 Qualitative predictors with more than two levels\n",
    "In this situation, we can create additional dummy variables."
   ]
  },
  {
   "cell_type": "markdown",
   "metadata": {},
   "source": [
    "## 3.5 Extension of Linear Model\n",
    "Above all, we assumpt that the relationship between the predictors and response are additive and linear.\n",
    "\n",
    "### removing the additive assumption\n",
    "We can assumpt that \n",
    "$$\n",
    "Y = \\beta_0 + \\beta_1X_1+\\beta_2X_2+\\beta_3X_1X_2+\\epsilon=\\beta_0+\\overline{\\beta_1}X_1+\\beta_2X_2+\\epsilon\n",
    "$$\n",
    "\n",
    "An interaction between a quantitative and qualitative variables has a particularly nice interpertation.\n",
    "$$\n",
    "balance_i = \\beta_0 +\\beta_1\\times income_i + \n",
    "\\begin{cases}\n",
    "\\beta_2 & \\text{if ith person is a student} \\\\\n",
    "0 & \\text{if ith person is not a student} \\\\\n",
    "\\end{cases}\n",
    "$$\n",
    "\n",
    "### Non-linear Relationships"
   ]
  },
  {
   "cell_type": "code",
   "execution_count": 145,
   "metadata": {
    "collapsed": false
   },
   "outputs": [
    {
     "name": "stderr",
     "output_type": "stream",
     "text": [
      "/Users/gaufung/anaconda/lib/python3.6/site-packages/ipykernel/__main__.py:10: SettingWithCopyWarning: \n",
      "A value is trying to be set on a copy of a slice from a DataFrame.\n",
      "Try using .loc[row_indexer,col_indexer] = value instead\n",
      "\n",
      "See the caveats in the documentation: http://pandas.pydata.org/pandas-docs/stable/indexing.html#indexing-view-versus-copy\n",
      "/Users/gaufung/anaconda/lib/python3.6/site-packages/ipykernel/__main__.py:11: SettingWithCopyWarning: \n",
      "A value is trying to be set on a copy of a slice from a DataFrame.\n",
      "Try using .loc[row_indexer,col_indexer] = value instead\n",
      "\n",
      "See the caveats in the documentation: http://pandas.pydata.org/pandas-docs/stable/indexing.html#indexing-view-versus-copy\n"
     ]
    },
    {
     "data": {
      "image/png": "[encoded data removed]",
      "text/plain": [
       "<matplotlib.figure.Figure at 0x1118d90b8>"
      ]
     },
     "metadata": {},
     "output_type": "display_data"
    }
   ],
   "source": [
    "auto = pd.read_table('Auto',sep='\\s+')\n",
    "rows=np.sum(auto.values=='?',axis=1)\n",
    "delete_rows = []\n",
    "for idx,_ in enumerate(rows):\n",
    "    if _!=0:\n",
    "        delete_rows.append(idx)\n",
    "auto=auto.drop(auto.index[delete_rows])\n",
    "data = auto[['mpg','horsepower']]\n",
    "horsepower= data['horsepower'].values.astype('float')\n",
    "data['horsepower_2'] = horsepower * horsepower\n",
    "data['beta_0'] = np.full(horsepower.shape,1.0)\n",
    "# plot the scatter \n",
    "plt.scatter(horsepower, auto['mpg'])\n",
    "# calcault linear\n",
    "X = data[['horsepower','beta_0']].values.astype('float')\n",
    "y = data['mpg'].values.astype('float').reshape(X.shape[0],1)\n",
    "beta_linear =inv(X.T.dot(X)).dot(X.T).dot(y)\n",
    "X = data[['horsepower','horsepower_2','beta_0']].values.astype('float')\n",
    "beta_linear2 = inv(X.T.dot(X)).dot(X.T).dot(y)\n",
    "x = np.linspace(40,230, 500)\n",
    "y_linear = x*beta_linear[0] + beta_linear[1]\n",
    "y_linear2 = x*beta_linear2[0] + x*x*beta_linear2[1] +beta_linear2[2]\n",
    "plt.plot(x, y_linear, c='b')\n",
    "plt.plot(x, y_linear2, c='g')\n",
    "plt.show()"
   ]
  },
  {
   "cell_type": "markdown",
   "metadata": {
    "collapsed": true
   },
   "source": [
    "## 3.6 Potential Probelms"
   ]
  },
  {
   "cell_type": "markdown",
   "metadata": {},
   "source": [
    "### 3.6.1 Non-linearity of the Data\n",
    "Residual plots are a useful graphical tool for identiying non-linearity."
   ]
  },
  {
   "cell_type": "code",
   "execution_count": 146,
   "metadata": {
    "collapsed": false
   },
   "outputs": [
    {
     "data": {
      "image/png": "[encoded data removed]",
      "text/plain": [
       "<matplotlib.figure.Figure at 0x111c5d400>"
      ]
     },
     "metadata": {},
     "output_type": "display_data"
    }
   ],
   "source": [
    "horsepower = data['horsepower'].values.astype('float')\n",
    "mpg = data['mpg'].values.astype('float')\n",
    "residual_linear = mpg - (horsepower*beta_linear[0]+beta_linear[1])\n",
    "plt.scatter(mpg, residual_linear)\n",
    "plt.show()"
   ]
  },
  {
   "cell_type": "code",
   "execution_count": 147,
   "metadata": {
    "collapsed": false
   },
   "outputs": [
    {
     "data": {
      "image/png": "[encoded data removed]",
      "text/plain": [
       "<matplotlib.figure.Figure at 0x111685e80>"
      ]
     },
     "metadata": {},
     "output_type": "display_data"
    }
   ],
   "source": [
    "residual_quadratic = mpg - (horsepower*beta_linear2[0]+horsepower*horsepower*beta_linear2[1]+beta_linear2[-1])\n",
    "plt.scatter(mpg, residual_quadratic)\n",
    "plt.show()"
   ]
  },
  {
   "cell_type": "markdown",
   "metadata": {},
   "source": [
    "### 3.6.2 Correlation of Error Terms\n",
    "Why might correlations among the error terms occur? Such correlationsfrequently occur in the context of time series data\n",
    "\n",
    "### 3.6.3 Non-constant Variance of Error Terms\n",
    "Another important assumption of the linear regression model is that the error terms have a constant variance, $Var(\\epsilon_i) = \\sigma ^2$. The standard errors, confidence intervals, and hypothesis tests associated with the linear model rely upon this assumption."
   ]
  },
  {
   "cell_type": "markdown",
   "metadata": {},
   "source": [
    "### 3.6.4 Outlier\n",
    "An outlier is a point for which $y_i$ is far from the value predicted by the model. Use residual plot can recognize the outliers.\n",
    "\n",
    "### 3.6.5 High leverage\n",
    "For simple linear regression\n",
    "$$\n",
    "h_i=\\frac{1}{n}+\\frac{(x_i-\\bar{x})^2}{\\sum_{i=1}^n(x_{i'}-\\bar{x})^2}\n",
    "$$"
   ]
  },
  {
   "cell_type": "markdown",
   "metadata": {},
   "source": [
    "### Collinearity\n",
    "ollinearity refers to the situation in which two or more predictor variables are closely related to one another. We  detect from correlation matrix."
   ]
  },
  {
   "cell_type": "markdown",
   "metadata": {},
   "source": [
    "# 4 K-Nearest Neighbors Regression\n",
    "$$\n",
    "\\hat{f}(x_0)=\\frac{1}{k}\\sum_{x_i \\in N_0}y_i\n",
    "$$\n",
    "where $y_i$s are k nearest neighbors points"
   ]
  },
  {
   "cell_type": "markdown",
   "metadata": {},
   "source": [
    "# 5 Exercises\n",
    "## 5.1 Auto Data\n",
    "$$mpg = \\beta_0 + \\beta_1 \\times horsepower$$"
   ]
  },
  {
   "cell_type": "code",
   "execution_count": 8,
   "metadata": {
    "collapsed": false
   },
   "outputs": [
    {
     "name": "stdout",
     "output_type": "stream",
     "text": [
      "β0 : 39.9358610212\n",
      "β1 : -0.157844733354\n"
     ]
    }
   ],
   "source": [
    "import pandas as pd\n",
    "import numpy as np\n",
    "import matplotlib.pyplot as plt\n",
    "from numpy.linalg import inv\n",
    "auto = pd.read_table('Auto',sep='\\s+')\n",
    "rows=np.sum(auto.values=='?',axis=1)\n",
    "delete_rows = []\n",
    "for idx,_ in enumerate(rows):\n",
    "    if _!=0:\n",
    "        delete_rows.append(idx)\n",
    "auto=auto.drop(auto.index[delete_rows])\n",
    "horsepower= auto['horsepower'].values.astype('float')\n",
    "auto['ones'] = np.full(horsepower.shape, 1.0)\n",
    "X = auto[['horsepower','ones']].values.astype('float')\n",
    "y = auto['mpg'].values.astype('float').reshape(X.shape[0],1)\n",
    "beta_linear =inv(X.T.dot(X)).dot(X.T).dot(y)\n",
    "print('β0 :',beta_linear[-1][0])\n",
    "print('β1 :', beta_linear[0][0])"
   ]
  },
  {
   "cell_type": "code",
   "execution_count": 9,
   "metadata": {
    "collapsed": false
   },
   "outputs": [
    {
     "name": "stdout",
     "output_type": "stream",
     "text": [
      "predict value is 24.467077 when horsepower is 98\n",
      "The range is [14.655563,34.278591]\n"
     ]
    }
   ],
   "source": [
    "sample_num = len(y)\n",
    "residual = np.power(X.dot(beta_linear)-y,2).sum()\n",
    "sigma = np.sqrt(residual/(sample_num-2))\n",
    "horsepower_98 = np.array([[98.0,1.0]])\n",
    "mpg_98 = horsepower_98.dot(beta_linear)[0,0]\n",
    "mpg_98_uppper_bound = mpg_98+2*sigma\n",
    "mpg_98_lower_bound = mpg_98-2*sigma\n",
    "print('predict value is %f when horsepower is 98'%mpg_98)\n",
    "print('The range is [%f,%f]' %(mpg_98_lower_bound,mpg_98_uppper_bound))"
   ]
  },
  {
   "cell_type": "code",
   "execution_count": 11,
   "metadata": {
    "collapsed": false
   },
   "outputs": [
    {
     "data": {
      "image/png": "[encoded data removed]",
      "text/plain": [
       "<matplotlib.figure.Figure at 0x117b69f98>"
      ]
     },
     "metadata": {},
     "output_type": "display_data"
    }
   ],
   "source": [
    "mpg = auto['mpg'].values.astype('float')\n",
    "plt.scatter(horsepower, mpg)\n",
    "plt.show()"
   ]
  },
  {
   "cell_type": "code",
   "execution_count": 13,
   "metadata": {
    "collapsed": false
   },
   "outputs": [
    {
     "data": {
      "text/html": [
       "<div>\n",
       "<table border=\"1\" class=\"dataframe\">\n",
       "  <thead>\n",
       "    <tr style=\"text-align: right;\">\n",
       "      <th></th>\n",
       "      <th>mpg</th>\n",
       "      <th>displacement</th>\n",
       "      <th>weight</th>\n",
       "      <th>acceleration</th>\n",
       "    </tr>\n",
       "  </thead>\n",
       "  <tbody>\n",
       "    <tr>\n",
       "      <th>mpg</th>\n",
       "      <td>1.000000</td>\n",
       "      <td>-0.805127</td>\n",
       "      <td>-0.832244</td>\n",
       "      <td>0.423329</td>\n",
       "    </tr>\n",
       "    <tr>\n",
       "      <th>displacement</th>\n",
       "      <td>-0.805127</td>\n",
       "      <td>1.000000</td>\n",
       "      <td>0.932994</td>\n",
       "      <td>-0.543800</td>\n",
       "    </tr>\n",
       "    <tr>\n",
       "      <th>weight</th>\n",
       "      <td>-0.832244</td>\n",
       "      <td>0.932994</td>\n",
       "      <td>1.000000</td>\n",
       "      <td>-0.416839</td>\n",
       "    </tr>\n",
       "    <tr>\n",
       "      <th>acceleration</th>\n",
       "      <td>0.423329</td>\n",
       "      <td>-0.543800</td>\n",
       "      <td>-0.416839</td>\n",
       "      <td>1.000000</td>\n",
       "    </tr>\n",
       "  </tbody>\n",
       "</table>\n",
       "</div>"
      ],
      "text/plain": [
       "                   mpg  displacement    weight  acceleration\n",
       "mpg           1.000000     -0.805127 -0.832244      0.423329\n",
       "displacement -0.805127      1.000000  0.932994     -0.543800\n",
       "weight       -0.832244      0.932994  1.000000     -0.416839\n",
       "acceleration  0.423329     -0.543800 -0.416839      1.000000"
      ]
     },
     "execution_count": 13,
     "metadata": {},
     "output_type": "execute_result"
    }
   ],
   "source": [
    "auto_cor=auto[['mpg','displacement','horsepower','weight','acceleration']]\n",
    "auto_cor.corr()"
   ]
  }
 ],
 "metadata": {
  "kernelspec": {
   "display_name": "Python 3",
   "language": "python",
   "name": "python3"
  },
  "language_info": {
   "codemirror_mode": {
    "name": "ipython",
    "version": 3
   },
   "file_extension": ".py",
   "mimetype": "text/x-python",
   "name": "python",
   "nbconvert_exporter": "python",
   "pygments_lexer": "ipython3",
   "version": "3.6.0"
  }
 },
 "nbformat": 4,
 "nbformat_minor": 2
}
